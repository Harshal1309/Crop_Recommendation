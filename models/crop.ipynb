{
 "cells": [
  {
   "cell_type": "code",
   "execution_count": 96,
   "id": "3f1a64ce",
   "metadata": {},
   "outputs": [],
   "source": [
    "import numpy as np\n",
    "import pandas as pd\n",
    "import matplotlib.pyplot as plt\n",
    "import seaborn as sns\n",
    "%matplotlib inline\n",
    "\n",
    "import pickle\n",
    "\n",
    "from sklearn.model_selection import train_test_split\n",
    "\n",
    "from sklearn.tree import DecisionTreeClassifier\n",
    "from sklearn.naive_bayes import GaussianNB\n",
    "from sklearn.linear_model import LogisticRegression\n",
    "from sklearn.ensemble import RandomForestClassifier\n",
    "\n",
    "\n",
    "from sklearn.metrics import classification_report\n",
    "from sklearn import metrics\n",
    "from sklearn import tree\n",
    "from sklearn.model_selection import cross_val_score\n",
    "import warnings\n",
    "warnings.filterwarnings(\"ignore\")\n",
    "\n",
    "\n",
    "\n",
    "\n",
    "\n",
    "\n",
    "#from sklearn.neighbors import  KNeighborsClassifier\n",
    "#from sklearn.ensemble import RandomForestClassifier\n",
    "#import xgboost\n",
    "#from xgboost import XGBClassifier\n",
    "\n",
    "#from sklearn.metrics import accuracy_score, plot_confusion_matrix, confusion_matrix\n",
    "#from sklearn.preprocessing import StandardScaler, LabelEncoder\n",
    "#from sklearn.pipeline import make_pipeline\n",
    "# from sklearn.naive_bayes import GaussianNB\n",
    "\n",
    "# from sklearn.svm import SVC\n",
    "\n",
    "# from sklearn.linear_model import LogisticRegression\n",
    "\n",
    "# from sklearn.ensemble import RandomForestClassifier\n",
    "\n",
    "# import xgboost as xgb\n",
    "\n"
   ]
  },
  {
   "cell_type": "markdown",
   "id": "008e7d51",
   "metadata": {},
   "source": [
    "### Read data"
   ]
  },
  {
   "cell_type": "code",
   "execution_count": 8,
   "id": "0b18552e",
   "metadata": {},
   "outputs": [
    {
     "data": {
      "text/html": [
       "<div>\n",
       "<style scoped>\n",
       "    .dataframe tbody tr th:only-of-type {\n",
       "        vertical-align: middle;\n",
       "    }\n",
       "\n",
       "    .dataframe tbody tr th {\n",
       "        vertical-align: top;\n",
       "    }\n",
       "\n",
       "    .dataframe thead th {\n",
       "        text-align: right;\n",
       "    }\n",
       "</style>\n",
       "<table border=\"1\" class=\"dataframe\">\n",
       "  <thead>\n",
       "    <tr style=\"text-align: right;\">\n",
       "      <th></th>\n",
       "      <th>N</th>\n",
       "      <th>P</th>\n",
       "      <th>K</th>\n",
       "      <th>temperature</th>\n",
       "      <th>humidity</th>\n",
       "      <th>ph</th>\n",
       "      <th>rainfall</th>\n",
       "      <th>label</th>\n",
       "    </tr>\n",
       "  </thead>\n",
       "  <tbody>\n",
       "    <tr>\n",
       "      <th>0</th>\n",
       "      <td>90</td>\n",
       "      <td>42</td>\n",
       "      <td>43</td>\n",
       "      <td>20.879744</td>\n",
       "      <td>82.002744</td>\n",
       "      <td>6.502985</td>\n",
       "      <td>202.935536</td>\n",
       "      <td>rice</td>\n",
       "    </tr>\n",
       "    <tr>\n",
       "      <th>1</th>\n",
       "      <td>85</td>\n",
       "      <td>58</td>\n",
       "      <td>41</td>\n",
       "      <td>21.770462</td>\n",
       "      <td>80.319644</td>\n",
       "      <td>7.038096</td>\n",
       "      <td>226.655537</td>\n",
       "      <td>rice</td>\n",
       "    </tr>\n",
       "    <tr>\n",
       "      <th>2</th>\n",
       "      <td>60</td>\n",
       "      <td>55</td>\n",
       "      <td>44</td>\n",
       "      <td>23.004459</td>\n",
       "      <td>82.320763</td>\n",
       "      <td>7.840207</td>\n",
       "      <td>263.964248</td>\n",
       "      <td>rice</td>\n",
       "    </tr>\n",
       "    <tr>\n",
       "      <th>3</th>\n",
       "      <td>74</td>\n",
       "      <td>35</td>\n",
       "      <td>40</td>\n",
       "      <td>26.491096</td>\n",
       "      <td>80.158363</td>\n",
       "      <td>6.980401</td>\n",
       "      <td>242.864034</td>\n",
       "      <td>rice</td>\n",
       "    </tr>\n",
       "    <tr>\n",
       "      <th>4</th>\n",
       "      <td>78</td>\n",
       "      <td>42</td>\n",
       "      <td>42</td>\n",
       "      <td>20.130175</td>\n",
       "      <td>81.604873</td>\n",
       "      <td>7.628473</td>\n",
       "      <td>262.717340</td>\n",
       "      <td>rice</td>\n",
       "    </tr>\n",
       "    <tr>\n",
       "      <th>...</th>\n",
       "      <td>...</td>\n",
       "      <td>...</td>\n",
       "      <td>...</td>\n",
       "      <td>...</td>\n",
       "      <td>...</td>\n",
       "      <td>...</td>\n",
       "      <td>...</td>\n",
       "      <td>...</td>\n",
       "    </tr>\n",
       "    <tr>\n",
       "      <th>2195</th>\n",
       "      <td>107</td>\n",
       "      <td>34</td>\n",
       "      <td>32</td>\n",
       "      <td>26.774637</td>\n",
       "      <td>66.413269</td>\n",
       "      <td>6.780064</td>\n",
       "      <td>177.774507</td>\n",
       "      <td>coffee</td>\n",
       "    </tr>\n",
       "    <tr>\n",
       "      <th>2196</th>\n",
       "      <td>99</td>\n",
       "      <td>15</td>\n",
       "      <td>27</td>\n",
       "      <td>27.417112</td>\n",
       "      <td>56.636362</td>\n",
       "      <td>6.086922</td>\n",
       "      <td>127.924610</td>\n",
       "      <td>coffee</td>\n",
       "    </tr>\n",
       "    <tr>\n",
       "      <th>2197</th>\n",
       "      <td>118</td>\n",
       "      <td>33</td>\n",
       "      <td>30</td>\n",
       "      <td>24.131797</td>\n",
       "      <td>67.225123</td>\n",
       "      <td>6.362608</td>\n",
       "      <td>173.322839</td>\n",
       "      <td>coffee</td>\n",
       "    </tr>\n",
       "    <tr>\n",
       "      <th>2198</th>\n",
       "      <td>117</td>\n",
       "      <td>32</td>\n",
       "      <td>34</td>\n",
       "      <td>26.272418</td>\n",
       "      <td>52.127394</td>\n",
       "      <td>6.758793</td>\n",
       "      <td>127.175293</td>\n",
       "      <td>coffee</td>\n",
       "    </tr>\n",
       "    <tr>\n",
       "      <th>2199</th>\n",
       "      <td>104</td>\n",
       "      <td>18</td>\n",
       "      <td>30</td>\n",
       "      <td>23.603016</td>\n",
       "      <td>60.396475</td>\n",
       "      <td>6.779833</td>\n",
       "      <td>140.937041</td>\n",
       "      <td>coffee</td>\n",
       "    </tr>\n",
       "  </tbody>\n",
       "</table>\n",
       "<p>2200 rows × 8 columns</p>\n",
       "</div>"
      ],
      "text/plain": [
       "        N   P   K  temperature   humidity        ph    rainfall   label\n",
       "0      90  42  43    20.879744  82.002744  6.502985  202.935536    rice\n",
       "1      85  58  41    21.770462  80.319644  7.038096  226.655537    rice\n",
       "2      60  55  44    23.004459  82.320763  7.840207  263.964248    rice\n",
       "3      74  35  40    26.491096  80.158363  6.980401  242.864034    rice\n",
       "4      78  42  42    20.130175  81.604873  7.628473  262.717340    rice\n",
       "...   ...  ..  ..          ...        ...       ...         ...     ...\n",
       "2195  107  34  32    26.774637  66.413269  6.780064  177.774507  coffee\n",
       "2196   99  15  27    27.417112  56.636362  6.086922  127.924610  coffee\n",
       "2197  118  33  30    24.131797  67.225123  6.362608  173.322839  coffee\n",
       "2198  117  32  34    26.272418  52.127394  6.758793  127.175293  coffee\n",
       "2199  104  18  30    23.603016  60.396475  6.779833  140.937041  coffee\n",
       "\n",
       "[2200 rows x 8 columns]"
      ]
     },
     "execution_count": 8,
     "metadata": {},
     "output_type": "execute_result"
    }
   ],
   "source": [
    "data_path = 'C:/Users/Harshal Joshi/OneDrive/Desktop/Crop Dataset/Crop_Dataset.csv'\n",
    "data = pd.read_csv(data_path)\n",
    "data"
   ]
  },
  {
   "cell_type": "markdown",
   "id": "c37731e1",
   "metadata": {},
   "source": [
    "### Basic EDA"
   ]
  },
  {
   "cell_type": "code",
   "execution_count": 9,
   "id": "d5401bf1",
   "metadata": {},
   "outputs": [
    {
     "data": {
      "text/plain": [
       "17600"
      ]
     },
     "execution_count": 9,
     "metadata": {},
     "output_type": "execute_result"
    }
   ],
   "source": [
    "data.size"
   ]
  },
  {
   "cell_type": "code",
   "execution_count": 10,
   "id": "9fa13e5d",
   "metadata": {},
   "outputs": [
    {
     "data": {
      "text/plain": [
       "(2200, 8)"
      ]
     },
     "execution_count": 10,
     "metadata": {},
     "output_type": "execute_result"
    }
   ],
   "source": [
    "data.shape"
   ]
  },
  {
   "cell_type": "code",
   "execution_count": 11,
   "id": "3621c497",
   "metadata": {},
   "outputs": [
    {
     "name": "stdout",
     "output_type": "stream",
     "text": [
      "<class 'pandas.core.frame.DataFrame'>\n",
      "RangeIndex: 2200 entries, 0 to 2199\n",
      "Data columns (total 8 columns):\n",
      " #   Column       Non-Null Count  Dtype  \n",
      "---  ------       --------------  -----  \n",
      " 0   N            2200 non-null   int64  \n",
      " 1   P            2200 non-null   int64  \n",
      " 2   K            2200 non-null   int64  \n",
      " 3   temperature  2200 non-null   float64\n",
      " 4   humidity     2200 non-null   float64\n",
      " 5   ph           2200 non-null   float64\n",
      " 6   rainfall     2200 non-null   float64\n",
      " 7   label        2200 non-null   object \n",
      "dtypes: float64(4), int64(3), object(1)\n",
      "memory usage: 137.6+ KB\n"
     ]
    }
   ],
   "source": [
    "\n",
    "data.info()"
   ]
  },
  {
   "cell_type": "code",
   "execution_count": 12,
   "id": "6cac3a49",
   "metadata": {},
   "outputs": [
    {
     "data": {
      "text/html": [
       "<div>\n",
       "<style scoped>\n",
       "    .dataframe tbody tr th:only-of-type {\n",
       "        vertical-align: middle;\n",
       "    }\n",
       "\n",
       "    .dataframe tbody tr th {\n",
       "        vertical-align: top;\n",
       "    }\n",
       "\n",
       "    .dataframe thead th {\n",
       "        text-align: right;\n",
       "    }\n",
       "</style>\n",
       "<table border=\"1\" class=\"dataframe\">\n",
       "  <thead>\n",
       "    <tr style=\"text-align: right;\">\n",
       "      <th></th>\n",
       "      <th>N</th>\n",
       "      <th>P</th>\n",
       "      <th>K</th>\n",
       "      <th>temperature</th>\n",
       "      <th>humidity</th>\n",
       "      <th>ph</th>\n",
       "      <th>rainfall</th>\n",
       "    </tr>\n",
       "  </thead>\n",
       "  <tbody>\n",
       "    <tr>\n",
       "      <th>count</th>\n",
       "      <td>2200.000000</td>\n",
       "      <td>2200.000000</td>\n",
       "      <td>2200.000000</td>\n",
       "      <td>2200.000000</td>\n",
       "      <td>2200.000000</td>\n",
       "      <td>2200.000000</td>\n",
       "      <td>2200.000000</td>\n",
       "    </tr>\n",
       "    <tr>\n",
       "      <th>mean</th>\n",
       "      <td>50.551818</td>\n",
       "      <td>53.362727</td>\n",
       "      <td>48.149091</td>\n",
       "      <td>25.616244</td>\n",
       "      <td>71.481779</td>\n",
       "      <td>6.469480</td>\n",
       "      <td>103.463655</td>\n",
       "    </tr>\n",
       "    <tr>\n",
       "      <th>std</th>\n",
       "      <td>36.917334</td>\n",
       "      <td>32.985883</td>\n",
       "      <td>50.647931</td>\n",
       "      <td>5.063749</td>\n",
       "      <td>22.263812</td>\n",
       "      <td>0.773938</td>\n",
       "      <td>54.958389</td>\n",
       "    </tr>\n",
       "    <tr>\n",
       "      <th>min</th>\n",
       "      <td>0.000000</td>\n",
       "      <td>5.000000</td>\n",
       "      <td>5.000000</td>\n",
       "      <td>8.825675</td>\n",
       "      <td>14.258040</td>\n",
       "      <td>3.504752</td>\n",
       "      <td>20.211267</td>\n",
       "    </tr>\n",
       "    <tr>\n",
       "      <th>25%</th>\n",
       "      <td>21.000000</td>\n",
       "      <td>28.000000</td>\n",
       "      <td>20.000000</td>\n",
       "      <td>22.769375</td>\n",
       "      <td>60.261953</td>\n",
       "      <td>5.971693</td>\n",
       "      <td>64.551686</td>\n",
       "    </tr>\n",
       "    <tr>\n",
       "      <th>50%</th>\n",
       "      <td>37.000000</td>\n",
       "      <td>51.000000</td>\n",
       "      <td>32.000000</td>\n",
       "      <td>25.598693</td>\n",
       "      <td>80.473146</td>\n",
       "      <td>6.425045</td>\n",
       "      <td>94.867624</td>\n",
       "    </tr>\n",
       "    <tr>\n",
       "      <th>75%</th>\n",
       "      <td>84.250000</td>\n",
       "      <td>68.000000</td>\n",
       "      <td>49.000000</td>\n",
       "      <td>28.561654</td>\n",
       "      <td>89.948771</td>\n",
       "      <td>6.923643</td>\n",
       "      <td>124.267508</td>\n",
       "    </tr>\n",
       "    <tr>\n",
       "      <th>max</th>\n",
       "      <td>140.000000</td>\n",
       "      <td>145.000000</td>\n",
       "      <td>205.000000</td>\n",
       "      <td>43.675493</td>\n",
       "      <td>99.981876</td>\n",
       "      <td>9.935091</td>\n",
       "      <td>298.560117</td>\n",
       "    </tr>\n",
       "  </tbody>\n",
       "</table>\n",
       "</div>"
      ],
      "text/plain": [
       "                 N            P            K  temperature     humidity  \\\n",
       "count  2200.000000  2200.000000  2200.000000  2200.000000  2200.000000   \n",
       "mean     50.551818    53.362727    48.149091    25.616244    71.481779   \n",
       "std      36.917334    32.985883    50.647931     5.063749    22.263812   \n",
       "min       0.000000     5.000000     5.000000     8.825675    14.258040   \n",
       "25%      21.000000    28.000000    20.000000    22.769375    60.261953   \n",
       "50%      37.000000    51.000000    32.000000    25.598693    80.473146   \n",
       "75%      84.250000    68.000000    49.000000    28.561654    89.948771   \n",
       "max     140.000000   145.000000   205.000000    43.675493    99.981876   \n",
       "\n",
       "                ph     rainfall  \n",
       "count  2200.000000  2200.000000  \n",
       "mean      6.469480   103.463655  \n",
       "std       0.773938    54.958389  \n",
       "min       3.504752    20.211267  \n",
       "25%       5.971693    64.551686  \n",
       "50%       6.425045    94.867624  \n",
       "75%       6.923643   124.267508  \n",
       "max       9.935091   298.560117  "
      ]
     },
     "execution_count": 12,
     "metadata": {},
     "output_type": "execute_result"
    }
   ],
   "source": [
    "data.describe()"
   ]
  },
  {
   "cell_type": "code",
   "execution_count": 13,
   "id": "cb900273",
   "metadata": {},
   "outputs": [
    {
     "data": {
      "text/plain": [
       "array(['rice', 'maize', 'chickpea', 'kidneybeans', 'pigeonpeas',\n",
       "       'mothbeans', 'mungbean', 'blackgram', 'lentil', 'pomegranate',\n",
       "       'banana', 'mango', 'grapes', 'watermelon', 'muskmelon', 'apple',\n",
       "       'orange', 'papaya', 'coconut', 'cotton', 'jute', 'coffee'],\n",
       "      dtype=object)"
      ]
     },
     "execution_count": 13,
     "metadata": {},
     "output_type": "execute_result"
    }
   ],
   "source": [
    "labels = data['label'].unique()\n",
    "labels"
   ]
  },
  {
   "cell_type": "code",
   "execution_count": 14,
   "id": "53d4378e",
   "metadata": {},
   "outputs": [
    {
     "data": {
      "text/plain": [
       "rice           100\n",
       "maize          100\n",
       "jute           100\n",
       "cotton         100\n",
       "coconut        100\n",
       "papaya         100\n",
       "orange         100\n",
       "apple          100\n",
       "muskmelon      100\n",
       "watermelon     100\n",
       "grapes         100\n",
       "mango          100\n",
       "banana         100\n",
       "pomegranate    100\n",
       "lentil         100\n",
       "blackgram      100\n",
       "mungbean       100\n",
       "mothbeans      100\n",
       "pigeonpeas     100\n",
       "kidneybeans    100\n",
       "chickpea       100\n",
       "coffee         100\n",
       "Name: label, dtype: int64"
      ]
     },
     "execution_count": 14,
     "metadata": {},
     "output_type": "execute_result"
    }
   ],
   "source": [
    "data['label'].value_counts()"
   ]
  },
  {
   "cell_type": "code",
   "execution_count": 15,
   "id": "2164f191",
   "metadata": {},
   "outputs": [
    {
     "data": {
      "image/png": "[encoded data removed]",
      "text/plain": [
       "<Figure size 432x288 with 1 Axes>"
      ]
     },
     "metadata": {
      "needs_background": "light"
     },
     "output_type": "display_data"
    }
   ],
   "source": [
    "data['label'].value_counts().plot(kind='bar')\n",
    "plt.show()"
   ]
  },
  {
   "cell_type": "code",
   "execution_count": 16,
   "id": "9b7225e0",
   "metadata": {},
   "outputs": [
    {
     "data": {
      "text/plain": [
       "Index(['N', 'P', 'K', 'temperature', 'humidity', 'ph', 'rainfall', 'label'], dtype='object')"
      ]
     },
     "execution_count": 16,
     "metadata": {},
     "output_type": "execute_result"
    }
   ],
   "source": [
    "columns = data.columns\n",
    "columns"
   ]
  },
  {
   "cell_type": "code",
   "execution_count": 17,
   "id": "dc074c03",
   "metadata": {},
   "outputs": [
    {
     "data": {
      "image/png": "[encoded data removed]",
      "text/plain": [
       "<Figure size 1080x1080 with 7 Axes>"
      ]
     },
     "metadata": {
      "needs_background": "light"
     },
     "output_type": "display_data"
    }
   ],
   "source": [
    "columns = data.columns[:-1]\n",
    "plt.figure(figsize=(15,15))\n",
    "i = 1\n",
    "for column in columns:\n",
    "    plt.subplot(3,3,i)\n",
    "    sns.histplot(data[column], color = 'c')\n",
    "    i += 1\n",
    "    "
   ]
  },
  {
   "cell_type": "code",
   "execution_count": 18,
   "id": "535d585f",
   "metadata": {},
   "outputs": [
    {
     "data": {
      "image/png": "[encoded data removed]",
      "text/plain": [
       "<Figure size 1080x648 with 1 Axes>"
      ]
     },
     "metadata": {
      "needs_background": "light"
     },
     "output_type": "display_data"
    },
    {
     "data": {
      "image/png": "[encoded data removed]",
      "text/plain": [
       "<Figure size 1080x648 with 1 Axes>"
      ]
     },
     "metadata": {
      "needs_background": "light"
     },
     "output_type": "display_data"
    },
    {
     "data": {
      "image/png": "[encoded data removed]",
      "text/plain": [
       "<Figure size 1080x648 with 1 Axes>"
      ]
     },
     "metadata": {
      "needs_background": "light"
     },
     "output_type": "display_data"
    },
    {
     "data": {
      "image/png": "[encoded data removed]",
      "text/plain": [
       "<Figure size 1080x648 with 1 Axes>"
      ]
     },
     "metadata": {
      "needs_background": "light"
     },
     "output_type": "display_data"
    },
    {
     "data": {
      "image/png": "[encoded data removed]",
      "text/plain": [
       "<Figure size 1080x648 with 1 Axes>"
      ]
     },
     "metadata": {
      "needs_background": "light"
     },
     "output_type": "display_data"
    },
    {
     "data": {
      "image/png": "[encoded data removed]",
      "text/plain": [
       "<Figure size 1080x648 with 1 Axes>"
      ]
     },
     "metadata": {
      "needs_background": "light"
     },
     "output_type": "display_data"
    },
    {
     "data": {
      "image/png": "[encoded data removed]",
      "text/plain": [
       "<Figure size 1080x648 with 1 Axes>"
      ]
     },
     "metadata": {
      "needs_background": "light"
     },
     "output_type": "display_data"
    }
   ],
   "source": [
    "for column in columns:\n",
    "    plt.figure(figsize= (15,9))\n",
    "    sns.barplot(x = 'label', y = column, data = data, palette = 'rainbow')\n",
    "    plt.title(f'{column} vs Crop type')\n",
    "    plt.xticks(rotation = 90)\n",
    "    plt.show()\n",
    "    continue"
   ]
  },
  {
   "cell_type": "markdown",
   "id": "171d9ae6",
   "metadata": {},
   "source": [
    "### Dependent and Independent Variables "
   ]
  },
  {
   "cell_type": "code",
   "execution_count": 19,
   "id": "0ac69c9a",
   "metadata": {},
   "outputs": [],
   "source": [
    "features = data[['N', 'P','K','temperature', 'humidity']]\n",
    "target = data['label']"
   ]
  },
  {
   "cell_type": "code",
   "execution_count": null,
   "id": "926bff64",
   "metadata": {},
   "outputs": [],
   "source": []
  },
  {
   "cell_type": "code",
   "execution_count": 20,
   "id": "1f1b2e7c",
   "metadata": {},
   "outputs": [
    {
     "data": {
      "text/html": [
       "<div>\n",
       "<style scoped>\n",
       "    .dataframe tbody tr th:only-of-type {\n",
       "        vertical-align: middle;\n",
       "    }\n",
       "\n",
       "    .dataframe tbody tr th {\n",
       "        vertical-align: top;\n",
       "    }\n",
       "\n",
       "    .dataframe thead th {\n",
       "        text-align: right;\n",
       "    }\n",
       "</style>\n",
       "<table border=\"1\" class=\"dataframe\">\n",
       "  <thead>\n",
       "    <tr style=\"text-align: right;\">\n",
       "      <th></th>\n",
       "      <th>N</th>\n",
       "      <th>P</th>\n",
       "      <th>K</th>\n",
       "      <th>temperature</th>\n",
       "      <th>humidity</th>\n",
       "    </tr>\n",
       "  </thead>\n",
       "  <tbody>\n",
       "    <tr>\n",
       "      <th>0</th>\n",
       "      <td>90</td>\n",
       "      <td>42</td>\n",
       "      <td>43</td>\n",
       "      <td>20.879744</td>\n",
       "      <td>82.002744</td>\n",
       "    </tr>\n",
       "    <tr>\n",
       "      <th>1</th>\n",
       "      <td>85</td>\n",
       "      <td>58</td>\n",
       "      <td>41</td>\n",
       "      <td>21.770462</td>\n",
       "      <td>80.319644</td>\n",
       "    </tr>\n",
       "    <tr>\n",
       "      <th>2</th>\n",
       "      <td>60</td>\n",
       "      <td>55</td>\n",
       "      <td>44</td>\n",
       "      <td>23.004459</td>\n",
       "      <td>82.320763</td>\n",
       "    </tr>\n",
       "    <tr>\n",
       "      <th>3</th>\n",
       "      <td>74</td>\n",
       "      <td>35</td>\n",
       "      <td>40</td>\n",
       "      <td>26.491096</td>\n",
       "      <td>80.158363</td>\n",
       "    </tr>\n",
       "    <tr>\n",
       "      <th>4</th>\n",
       "      <td>78</td>\n",
       "      <td>42</td>\n",
       "      <td>42</td>\n",
       "      <td>20.130175</td>\n",
       "      <td>81.604873</td>\n",
       "    </tr>\n",
       "    <tr>\n",
       "      <th>...</th>\n",
       "      <td>...</td>\n",
       "      <td>...</td>\n",
       "      <td>...</td>\n",
       "      <td>...</td>\n",
       "      <td>...</td>\n",
       "    </tr>\n",
       "    <tr>\n",
       "      <th>2195</th>\n",
       "      <td>107</td>\n",
       "      <td>34</td>\n",
       "      <td>32</td>\n",
       "      <td>26.774637</td>\n",
       "      <td>66.413269</td>\n",
       "    </tr>\n",
       "    <tr>\n",
       "      <th>2196</th>\n",
       "      <td>99</td>\n",
       "      <td>15</td>\n",
       "      <td>27</td>\n",
       "      <td>27.417112</td>\n",
       "      <td>56.636362</td>\n",
       "    </tr>\n",
       "    <tr>\n",
       "      <th>2197</th>\n",
       "      <td>118</td>\n",
       "      <td>33</td>\n",
       "      <td>30</td>\n",
       "      <td>24.131797</td>\n",
       "      <td>67.225123</td>\n",
       "    </tr>\n",
       "    <tr>\n",
       "      <th>2198</th>\n",
       "      <td>117</td>\n",
       "      <td>32</td>\n",
       "      <td>34</td>\n",
       "      <td>26.272418</td>\n",
       "      <td>52.127394</td>\n",
       "    </tr>\n",
       "    <tr>\n",
       "      <th>2199</th>\n",
       "      <td>104</td>\n",
       "      <td>18</td>\n",
       "      <td>30</td>\n",
       "      <td>23.603016</td>\n",
       "      <td>60.396475</td>\n",
       "    </tr>\n",
       "  </tbody>\n",
       "</table>\n",
       "<p>2200 rows × 5 columns</p>\n",
       "</div>"
      ],
      "text/plain": [
       "        N   P   K  temperature   humidity\n",
       "0      90  42  43    20.879744  82.002744\n",
       "1      85  58  41    21.770462  80.319644\n",
       "2      60  55  44    23.004459  82.320763\n",
       "3      74  35  40    26.491096  80.158363\n",
       "4      78  42  42    20.130175  81.604873\n",
       "...   ...  ..  ..          ...        ...\n",
       "2195  107  34  32    26.774637  66.413269\n",
       "2196   99  15  27    27.417112  56.636362\n",
       "2197  118  33  30    24.131797  67.225123\n",
       "2198  117  32  34    26.272418  52.127394\n",
       "2199  104  18  30    23.603016  60.396475\n",
       "\n",
       "[2200 rows x 5 columns]"
      ]
     },
     "execution_count": 20,
     "metadata": {},
     "output_type": "execute_result"
    }
   ],
   "source": [
    "features"
   ]
  },
  {
   "cell_type": "code",
   "execution_count": 21,
   "id": "248e932a",
   "metadata": {},
   "outputs": [
    {
     "data": {
      "text/plain": [
       "0         rice\n",
       "1         rice\n",
       "2         rice\n",
       "3         rice\n",
       "4         rice\n",
       "         ...  \n",
       "2195    coffee\n",
       "2196    coffee\n",
       "2197    coffee\n",
       "2198    coffee\n",
       "2199    coffee\n",
       "Name: label, Length: 2200, dtype: object"
      ]
     },
     "execution_count": 21,
     "metadata": {},
     "output_type": "execute_result"
    }
   ],
   "source": [
    "target"
   ]
  },
  {
   "cell_type": "markdown",
   "id": "4d51d069",
   "metadata": {},
   "source": [
    "### Training and testing data"
   ]
  },
  {
   "cell_type": "code",
   "execution_count": 22,
   "id": "bafd4a80",
   "metadata": {},
   "outputs": [],
   "source": [
    "X_train, X_test, Y_train, Y_test = train_test_split(features, target, test_size = 0.20, random_state = 22)"
   ]
  },
  {
   "cell_type": "code",
   "execution_count": 23,
   "id": "cbc73d09",
   "metadata": {},
   "outputs": [
    {
     "data": {
      "text/html": [
       "<div>\n",
       "<style scoped>\n",
       "    .dataframe tbody tr th:only-of-type {\n",
       "        vertical-align: middle;\n",
       "    }\n",
       "\n",
       "    .dataframe tbody tr th {\n",
       "        vertical-align: top;\n",
       "    }\n",
       "\n",
       "    .dataframe thead th {\n",
       "        text-align: right;\n",
       "    }\n",
       "</style>\n",
       "<table border=\"1\" class=\"dataframe\">\n",
       "  <thead>\n",
       "    <tr style=\"text-align: right;\">\n",
       "      <th></th>\n",
       "      <th>N</th>\n",
       "      <th>P</th>\n",
       "      <th>K</th>\n",
       "      <th>temperature</th>\n",
       "      <th>humidity</th>\n",
       "    </tr>\n",
       "  </thead>\n",
       "  <tbody>\n",
       "    <tr>\n",
       "      <th>1279</th>\n",
       "      <td>38</td>\n",
       "      <td>135</td>\n",
       "      <td>203</td>\n",
       "      <td>41.361063</td>\n",
       "      <td>82.797830</td>\n",
       "    </tr>\n",
       "    <tr>\n",
       "      <th>845</th>\n",
       "      <td>24</td>\n",
       "      <td>61</td>\n",
       "      <td>17</td>\n",
       "      <td>22.637142</td>\n",
       "      <td>65.445449</td>\n",
       "    </tr>\n",
       "    <tr>\n",
       "      <th>1483</th>\n",
       "      <td>83</td>\n",
       "      <td>15</td>\n",
       "      <td>49</td>\n",
       "      <td>28.927059</td>\n",
       "      <td>91.393568</td>\n",
       "    </tr>\n",
       "    <tr>\n",
       "      <th>831</th>\n",
       "      <td>3</td>\n",
       "      <td>63</td>\n",
       "      <td>16</td>\n",
       "      <td>24.380419</td>\n",
       "      <td>61.184582</td>\n",
       "    </tr>\n",
       "    <tr>\n",
       "      <th>1734</th>\n",
       "      <td>34</td>\n",
       "      <td>61</td>\n",
       "      <td>49</td>\n",
       "      <td>28.129715</td>\n",
       "      <td>93.321074</td>\n",
       "    </tr>\n",
       "    <tr>\n",
       "      <th>...</th>\n",
       "      <td>...</td>\n",
       "      <td>...</td>\n",
       "      <td>...</td>\n",
       "      <td>...</td>\n",
       "      <td>...</td>\n",
       "    </tr>\n",
       "    <tr>\n",
       "      <th>491</th>\n",
       "      <td>4</td>\n",
       "      <td>69</td>\n",
       "      <td>19</td>\n",
       "      <td>19.251001</td>\n",
       "      <td>47.703518</td>\n",
       "    </tr>\n",
       "    <tr>\n",
       "      <th>1382</th>\n",
       "      <td>101</td>\n",
       "      <td>11</td>\n",
       "      <td>51</td>\n",
       "      <td>25.507370</td>\n",
       "      <td>84.243402</td>\n",
       "    </tr>\n",
       "    <tr>\n",
       "      <th>356</th>\n",
       "      <td>31</td>\n",
       "      <td>79</td>\n",
       "      <td>25</td>\n",
       "      <td>23.188644</td>\n",
       "      <td>22.310455</td>\n",
       "    </tr>\n",
       "    <tr>\n",
       "      <th>812</th>\n",
       "      <td>3</td>\n",
       "      <td>69</td>\n",
       "      <td>23</td>\n",
       "      <td>28.674088</td>\n",
       "      <td>63.188330</td>\n",
       "    </tr>\n",
       "    <tr>\n",
       "      <th>2180</th>\n",
       "      <td>80</td>\n",
       "      <td>18</td>\n",
       "      <td>31</td>\n",
       "      <td>24.029525</td>\n",
       "      <td>58.848806</td>\n",
       "    </tr>\n",
       "  </tbody>\n",
       "</table>\n",
       "<p>1760 rows × 5 columns</p>\n",
       "</div>"
      ],
      "text/plain": [
       "        N    P    K  temperature   humidity\n",
       "1279   38  135  203    41.361063  82.797830\n",
       "845    24   61   17    22.637142  65.445449\n",
       "1483   83   15   49    28.927059  91.393568\n",
       "831     3   63   16    24.380419  61.184582\n",
       "1734   34   61   49    28.129715  93.321074\n",
       "...   ...  ...  ...          ...        ...\n",
       "491     4   69   19    19.251001  47.703518\n",
       "1382  101   11   51    25.507370  84.243402\n",
       "356    31   79   25    23.188644  22.310455\n",
       "812     3   69   23    28.674088  63.188330\n",
       "2180   80   18   31    24.029525  58.848806\n",
       "\n",
       "[1760 rows x 5 columns]"
      ]
     },
     "execution_count": 23,
     "metadata": {},
     "output_type": "execute_result"
    }
   ],
   "source": [
    "X_train"
   ]
  },
  {
   "cell_type": "code",
   "execution_count": 24,
   "id": "6e0bc49e",
   "metadata": {},
   "outputs": [
    {
     "data": {
      "text/html": [
       "<div>\n",
       "<style scoped>\n",
       "    .dataframe tbody tr th:only-of-type {\n",
       "        vertical-align: middle;\n",
       "    }\n",
       "\n",
       "    .dataframe tbody tr th {\n",
       "        vertical-align: top;\n",
       "    }\n",
       "\n",
       "    .dataframe thead th {\n",
       "        text-align: right;\n",
       "    }\n",
       "</style>\n",
       "<table border=\"1\" class=\"dataframe\">\n",
       "  <thead>\n",
       "    <tr style=\"text-align: right;\">\n",
       "      <th></th>\n",
       "      <th>N</th>\n",
       "      <th>P</th>\n",
       "      <th>K</th>\n",
       "      <th>temperature</th>\n",
       "      <th>humidity</th>\n",
       "    </tr>\n",
       "  </thead>\n",
       "  <tbody>\n",
       "    <tr>\n",
       "      <th>2030</th>\n",
       "      <td>69</td>\n",
       "      <td>57</td>\n",
       "      <td>35</td>\n",
       "      <td>24.307486</td>\n",
       "      <td>78.543410</td>\n",
       "    </tr>\n",
       "    <tr>\n",
       "      <th>454</th>\n",
       "      <td>5</td>\n",
       "      <td>56</td>\n",
       "      <td>24</td>\n",
       "      <td>24.807102</td>\n",
       "      <td>45.011100</td>\n",
       "    </tr>\n",
       "    <tr>\n",
       "      <th>1657</th>\n",
       "      <td>12</td>\n",
       "      <td>20</td>\n",
       "      <td>10</td>\n",
       "      <td>24.451328</td>\n",
       "      <td>93.105277</td>\n",
       "    </tr>\n",
       "    <tr>\n",
       "      <th>1235</th>\n",
       "      <td>32</td>\n",
       "      <td>129</td>\n",
       "      <td>201</td>\n",
       "      <td>16.362519</td>\n",
       "      <td>83.004716</td>\n",
       "    </tr>\n",
       "    <tr>\n",
       "      <th>1694</th>\n",
       "      <td>6</td>\n",
       "      <td>13</td>\n",
       "      <td>9</td>\n",
       "      <td>34.514240</td>\n",
       "      <td>90.561515</td>\n",
       "    </tr>\n",
       "    <tr>\n",
       "      <th>...</th>\n",
       "      <td>...</td>\n",
       "      <td>...</td>\n",
       "      <td>...</td>\n",
       "      <td>...</td>\n",
       "      <td>...</td>\n",
       "    </tr>\n",
       "    <tr>\n",
       "      <th>1949</th>\n",
       "      <td>111</td>\n",
       "      <td>50</td>\n",
       "      <td>15</td>\n",
       "      <td>25.168201</td>\n",
       "      <td>80.303518</td>\n",
       "    </tr>\n",
       "    <tr>\n",
       "      <th>1258</th>\n",
       "      <td>21</td>\n",
       "      <td>139</td>\n",
       "      <td>201</td>\n",
       "      <td>19.364255</td>\n",
       "      <td>83.360940</td>\n",
       "    </tr>\n",
       "    <tr>\n",
       "      <th>2049</th>\n",
       "      <td>100</td>\n",
       "      <td>56</td>\n",
       "      <td>40</td>\n",
       "      <td>26.389054</td>\n",
       "      <td>83.312403</td>\n",
       "    </tr>\n",
       "    <tr>\n",
       "      <th>1106</th>\n",
       "      <td>19</td>\n",
       "      <td>21</td>\n",
       "      <td>34</td>\n",
       "      <td>30.015926</td>\n",
       "      <td>53.192124</td>\n",
       "    </tr>\n",
       "    <tr>\n",
       "      <th>660</th>\n",
       "      <td>40</td>\n",
       "      <td>58</td>\n",
       "      <td>15</td>\n",
       "      <td>29.464160</td>\n",
       "      <td>87.608900</td>\n",
       "    </tr>\n",
       "  </tbody>\n",
       "</table>\n",
       "<p>440 rows × 5 columns</p>\n",
       "</div>"
      ],
      "text/plain": [
       "        N    P    K  temperature   humidity\n",
       "2030   69   57   35    24.307486  78.543410\n",
       "454     5   56   24    24.807102  45.011100\n",
       "1657   12   20   10    24.451328  93.105277\n",
       "1235   32  129  201    16.362519  83.004716\n",
       "1694    6   13    9    34.514240  90.561515\n",
       "...   ...  ...  ...          ...        ...\n",
       "1949  111   50   15    25.168201  80.303518\n",
       "1258   21  139  201    19.364255  83.360940\n",
       "2049  100   56   40    26.389054  83.312403\n",
       "1106   19   21   34    30.015926  53.192124\n",
       "660    40   58   15    29.464160  87.608900\n",
       "\n",
       "[440 rows x 5 columns]"
      ]
     },
     "execution_count": 24,
     "metadata": {},
     "output_type": "execute_result"
    }
   ],
   "source": [
    "X_test"
   ]
  },
  {
   "cell_type": "code",
   "execution_count": 25,
   "id": "9c741556",
   "metadata": {},
   "outputs": [
    {
     "data": {
      "text/plain": [
       "1279         grapes\n",
       "845          lentil\n",
       "1483      muskmelon\n",
       "831          lentil\n",
       "1734         papaya\n",
       "           ...     \n",
       "491      pigeonpeas\n",
       "1382     watermelon\n",
       "356     kidneybeans\n",
       "812          lentil\n",
       "2180         coffee\n",
       "Name: label, Length: 1760, dtype: object"
      ]
     },
     "execution_count": 25,
     "metadata": {},
     "output_type": "execute_result"
    }
   ],
   "source": [
    "Y_train"
   ]
  },
  {
   "cell_type": "code",
   "execution_count": 26,
   "id": "d583ebc9",
   "metadata": {},
   "outputs": [
    {
     "data": {
      "text/plain": [
       "2030          jute\n",
       "454     pigeonpeas\n",
       "1657        orange\n",
       "1235        grapes\n",
       "1694        orange\n",
       "           ...    \n",
       "1949        cotton\n",
       "1258        grapes\n",
       "2049          jute\n",
       "1106         mango\n",
       "660       mungbean\n",
       "Name: label, Length: 440, dtype: object"
      ]
     },
     "execution_count": 26,
     "metadata": {},
     "output_type": "execute_result"
    }
   ],
   "source": [
    "Y_test"
   ]
  },
  {
   "cell_type": "markdown",
   "id": "f7b33c19",
   "metadata": {},
   "source": [
    "## Prediction Models"
   ]
  },
  {
   "cell_type": "markdown",
   "id": "dc3fc955",
   "metadata": {},
   "source": [
    "### 1. Decision Tree algorithm"
   ]
  },
  {
   "cell_type": "code",
   "execution_count": 68,
   "id": "cad03a11",
   "metadata": {},
   "outputs": [],
   "source": [
    "from sklearn.tree import DecisionTreeClassifier"
   ]
  },
  {
   "cell_type": "code",
   "execution_count": null,
   "id": "a013808e",
   "metadata": {},
   "outputs": [],
   "source": []
  },
  {
   "cell_type": "code",
   "execution_count": 69,
   "id": "12cc2d5d",
   "metadata": {},
   "outputs": [],
   "source": [
    "DecisionTree = DecisionTreeClassifier()"
   ]
  },
  {
   "cell_type": "code",
   "execution_count": 70,
   "id": "64da246f",
   "metadata": {},
   "outputs": [
    {
     "data": {
      "text/plain": [
       "DecisionTreeClassifier()"
      ]
     },
     "execution_count": 70,
     "metadata": {},
     "output_type": "execute_result"
    }
   ],
   "source": [
    "DecisionTree.fit(X_train, Y_train)"
   ]
  },
  {
   "cell_type": "code",
   "execution_count": 71,
   "id": "6ab6dbac",
   "metadata": {},
   "outputs": [],
   "source": [
    "from sklearn import tree"
   ]
  },
  {
   "cell_type": "code",
   "execution_count": 72,
   "id": "f6b20008",
   "metadata": {},
   "outputs": [
    {
     "data": {
      "text/plain": [
       "[Text(490.2875339673913, 531.2454545454545, 'X[4] <= 27.685\\ngini = 0.954\\nsamples = 1760\\nvalue = [79, 79, 78, 78, 78, 79, 79, 81, 80, 84, 83, 75\\n84, 85, 73, 81, 80, 92, 74, 76, 83, 79]'),\n",
       " Text(414.140625, 506.53636363636366, 'X[2] <= 50.0\\ngini = 0.499\\nsamples = 162\\nvalue = [0, 0, 0, 78, 0, 0, 0, 0, 0, 84, 0, 0, 0, 0\\n0, 0, 0, 0, 0, 0, 0, 0]'),\n",
       " Text(402.0101902173913, 481.82727272727277, 'gini = 0.0\\nsamples = 84\\nvalue = [0, 0, 0, 0, 0, 0, 0, 0, 0, 84, 0, 0, 0, 0\\n0, 0, 0, 0, 0, 0, 0, 0]'),\n",
       " Text(426.2710597826087, 481.82727272727277, 'gini = 0.0\\nsamples = 78\\nvalue = [0, 0, 0, 78, 0, 0, 0, 0, 0, 0, 0, 0, 0, 0\\n0, 0, 0, 0, 0, 0, 0, 0]'),\n",
       " Text(566.4344429347826, 506.53636363636366, 'X[2] <= 125.0\\ngini = 0.95\\nsamples = 1598\\nvalue = [79, 79, 78, 0, 78, 79, 79, 81, 80, 0, 83, 75\\n84, 85, 73, 81, 80, 92, 74, 76, 83, 79]'),\n",
       " Text(450.53192934782606, 481.82727272727277, 'X[4] <= 70.653\\ngini = 0.944\\nsamples = 1438\\nvalue = [0, 79, 78, 0, 78, 79, 79, 0, 80, 0, 83, 75, 84\\n85, 73, 81, 80, 92, 74, 76, 83, 79]'),\n",
       " Text(255.11820652173913, 457.1181818181818, 'X[0] <= 59.5\\ngini = 0.855\\nsamples = 542\\nvalue = [0, 0, 78, 0, 0, 79, 0, 0, 0, 0, 83, 59, 84\\n85, 0, 0, 0, 0, 74, 0, 0, 0]'),\n",
       " Text(131.16032608695653, 432.40909090909093, 'X[2] <= 25.5\\ngini = 0.799\\nsamples = 404\\nvalue = [0, 0, 78, 0, 0, 0, 0, 0, 0, 0, 83, 0, 84, 85\\n0, 0, 0, 0, 74, 0, 0, 0]'),\n",
       " Text(119.02989130434783, 407.70000000000005, 'X[1] <= 54.5\\ngini = 0.759\\nsamples = 327\\nvalue = [0, 0, 78, 0, 0, 0, 0, 0, 0, 0, 83, 0, 7, 85\\n0, 0, 0, 0, 74, 0, 0, 0]'),\n",
       " Text(24.26086956521739, 382.9909090909091, 'X[2] <= 24.5\\ngini = 0.178\\nsamples = 71\\nvalue = [0, 0, 0, 0, 0, 0, 0, 0, 0, 0, 0, 0, 7, 64\\n0, 0, 0, 0, 0, 0, 0, 0]'),\n",
       " Text(12.130434782608695, 358.28181818181815, 'gini = 0.0\\nsamples = 62\\nvalue = [0, 0, 0, 0, 0, 0, 0, 0, 0, 0, 0, 0, 0, 62\\n0, 0, 0, 0, 0, 0, 0, 0]'),\n",
       " Text(36.391304347826086, 358.28181818181815, 'X[1] <= 44.5\\ngini = 0.346\\nsamples = 9\\nvalue = [0, 0, 0, 0, 0, 0, 0, 0, 0, 0, 0, 0, 7, 2\\n0, 0, 0, 0, 0, 0, 0, 0]'),\n",
       " Text(24.26086956521739, 333.5727272727273, 'gini = 0.0\\nsamples = 7\\nvalue = [0, 0, 0, 0, 0, 0, 0, 0, 0, 0, 0, 0, 7, 0\\n0, 0, 0, 0, 0, 0, 0, 0]'),\n",
       " Text(48.52173913043478, 333.5727272727273, 'gini = 0.0\\nsamples = 2\\nvalue = [0, 0, 0, 0, 0, 0, 0, 0, 0, 0, 0, 0, 0, 2\\n0, 0, 0, 0, 0, 0, 0, 0]'),\n",
       " Text(213.79891304347825, 382.9909090909091, 'X[4] <= 60.016\\ngini = 0.712\\nsamples = 256\\nvalue = [0, 0, 78, 0, 0, 0, 0, 0, 0, 0, 83, 0, 0, 21\\n0, 0, 0, 0, 74, 0, 0, 0]'),\n",
       " Text(84.91304347826087, 358.28181818181815, 'X[1] <= 60.5\\ngini = 0.362\\nsamples = 80\\nvalue = [0, 0, 0, 0, 0, 0, 0, 0, 0, 0, 0, 0, 0, 19\\n0, 0, 0, 0, 61, 0, 0, 0]'),\n",
       " Text(72.78260869565217, 333.5727272727273, 'X[4] <= 43.513\\ngini = 0.475\\nsamples = 31\\nvalue = [0, 0, 0, 0, 0, 0, 0, 0, 0, 0, 0, 0, 0, 19\\n0, 0, 0, 0, 12, 0, 0, 0]'),\n",
       " Text(48.52173913043478, 308.8636363636364, 'X[0] <= 39.5\\ngini = 0.198\\nsamples = 9\\nvalue = [0, 0, 0, 0, 0, 0, 0, 0, 0, 0, 0, 0, 0, 1\\n0, 0, 0, 0, 8, 0, 0, 0]'),\n",
       " Text(36.391304347826086, 284.1545454545455, 'gini = 0.0\\nsamples = 8\\nvalue = [0, 0, 0, 0, 0, 0, 0, 0, 0, 0, 0, 0, 0, 0\\n0, 0, 0, 0, 8, 0, 0, 0]'),\n",
       " Text(60.65217391304348, 284.1545454545455, 'gini = 0.0\\nsamples = 1\\nvalue = [0, 0, 0, 0, 0, 0, 0, 0, 0, 0, 0, 0, 0, 1\\n0, 0, 0, 0, 0, 0, 0, 0]'),\n",
       " Text(97.04347826086956, 308.8636363636364, 'X[3] <= 24.517\\ngini = 0.298\\nsamples = 22\\nvalue = [0, 0, 0, 0, 0, 0, 0, 0, 0, 0, 0, 0, 0, 18\\n0, 0, 0, 0, 4, 0, 0, 0]'),\n",
       " Text(84.91304347826087, 284.1545454545455, 'gini = 0.0\\nsamples = 2\\nvalue = [0, 0, 0, 0, 0, 0, 0, 0, 0, 0, 0, 0, 0, 0\\n0, 0, 0, 0, 2, 0, 0, 0]'),\n",
       " Text(109.17391304347825, 284.1545454545455, 'X[0] <= 38.0\\ngini = 0.18\\nsamples = 20\\nvalue = [0, 0, 0, 0, 0, 0, 0, 0, 0, 0, 0, 0, 0, 18\\n0, 0, 0, 0, 2, 0, 0, 0]'),\n",
       " Text(97.04347826086956, 259.44545454545454, 'X[3] <= 32.739\\ngini = 0.1\\nsamples = 19\\nvalue = [0, 0, 0, 0, 0, 0, 0, 0, 0, 0, 0, 0, 0, 18\\n0, 0, 0, 0, 1, 0, 0, 0]'),\n",
       " Text(84.91304347826087, 234.73636363636365, 'gini = 0.0\\nsamples = 18\\nvalue = [0, 0, 0, 0, 0, 0, 0, 0, 0, 0, 0, 0, 0, 18\\n0, 0, 0, 0, 0, 0, 0, 0]'),\n",
       " Text(109.17391304347825, 234.73636363636365, 'gini = 0.0\\nsamples = 1\\nvalue = [0, 0, 0, 0, 0, 0, 0, 0, 0, 0, 0, 0, 0, 0\\n0, 0, 0, 0, 1, 0, 0, 0]'),\n",
       " Text(121.30434782608695, 259.44545454545454, 'gini = 0.0\\nsamples = 1\\nvalue = [0, 0, 0, 0, 0, 0, 0, 0, 0, 0, 0, 0, 0, 0\\n0, 0, 0, 0, 1, 0, 0, 0]'),\n",
       " Text(97.04347826086956, 333.5727272727273, 'gini = 0.0\\nsamples = 49\\nvalue = [0, 0, 0, 0, 0, 0, 0, 0, 0, 0, 0, 0, 0, 0\\n0, 0, 0, 0, 49, 0, 0, 0]'),\n",
       " Text(342.6847826086956, 358.28181818181815, 'X[3] <= 26.187\\ngini = 0.576\\nsamples = 176\\nvalue = [0, 0, 78, 0, 0, 0, 0, 0, 0, 0, 83, 0, 0, 2\\n0, 0, 0, 0, 13, 0, 0, 0]'),\n",
       " Text(210.7663043478261, 333.5727272727273, 'X[0] <= 40.5\\ngini = 0.262\\nsamples = 68\\nvalue = [0, 0, 5, 0, 0, 0, 0, 0, 0, 0, 58, 0, 0, 0\\n0, 0, 0, 0, 5, 0, 0, 0]'),\n",
       " Text(198.63586956521738, 308.8636363636364, 'X[1] <= 55.5\\ngini = 0.22\\nsamples = 66\\nvalue = [0, 0, 3, 0, 0, 0, 0, 0, 0, 0, 58, 0, 0, 0\\n0, 0, 0, 0, 5, 0, 0, 0]'),\n",
       " Text(157.69565217391303, 284.1545454545455, 'X[4] <= 68.862\\ngini = 0.5\\nsamples = 2\\nvalue = [0, 0, 0, 0, 0, 0, 0, 0, 0, 0, 1, 0, 0, 0\\n0, 0, 0, 0, 1, 0, 0, 0]'),\n",
       " Text(145.56521739130434, 259.44545454545454, 'gini = 0.0\\nsamples = 1\\nvalue = [0, 0, 0, 0, 0, 0, 0, 0, 0, 0, 1, 0, 0, 0\\n0, 0, 0, 0, 0, 0, 0, 0]'),\n",
       " Text(169.82608695652175, 259.44545454545454, 'gini = 0.0\\nsamples = 1\\nvalue = [0, 0, 0, 0, 0, 0, 0, 0, 0, 0, 0, 0, 0, 0\\n0, 0, 0, 0, 1, 0, 0, 0]'),\n",
       " Text(239.57608695652172, 284.1545454545455, 'X[4] <= 60.255\\ngini = 0.201\\nsamples = 64\\nvalue = [0, 0, 3, 0, 0, 0, 0, 0, 0, 0, 57, 0, 0, 0\\n0, 0, 0, 0, 4, 0, 0, 0]'),\n",
       " Text(194.08695652173913, 259.44545454545454, 'X[3] <= 23.919\\ngini = 0.5\\nsamples = 2\\nvalue = [0, 0, 0, 0, 0, 0, 0, 0, 0, 0, 1, 0, 0, 0\\n0, 0, 0, 0, 1, 0, 0, 0]'),\n",
       " Text(181.95652173913044, 234.73636363636365, 'gini = 0.0\\nsamples = 1\\nvalue = [0, 0, 0, 0, 0, 0, 0, 0, 0, 0, 0, 0, 0, 0\\n0, 0, 0, 0, 1, 0, 0, 0]'),\n",
       " Text(206.2173913043478, 234.73636363636365, 'gini = 0.0\\nsamples = 1\\nvalue = [0, 0, 0, 0, 0, 0, 0, 0, 0, 0, 1, 0, 0, 0\\n0, 0, 0, 0, 0, 0, 0, 0]'),\n",
       " Text(285.0652173913043, 259.44545454545454, 'X[2] <= 21.5\\ngini = 0.18\\nsamples = 62\\nvalue = [0, 0, 3, 0, 0, 0, 0, 0, 0, 0, 56, 0, 0, 0\\n0, 0, 0, 0, 3, 0, 0, 0]'),\n",
       " Text(230.47826086956522, 234.73636363636365, 'X[3] <= 19.568\\ngini = 0.124\\nsamples = 45\\nvalue = [0, 0, 0, 0, 0, 0, 0, 0, 0, 0, 42, 0, 0, 0\\n0, 0, 0, 0, 3, 0, 0, 0]'),\n",
       " Text(194.08695652173913, 210.0272727272727, 'X[3] <= 18.585\\ngini = 0.444\\nsamples = 6\\nvalue = [0, 0, 0, 0, 0, 0, 0, 0, 0, 0, 4, 0, 0, 0\\n0, 0, 0, 0, 2, 0, 0, 0]'),\n",
       " Text(181.95652173913044, 185.3181818181818, 'gini = 0.0\\nsamples = 3\\nvalue = [0, 0, 0, 0, 0, 0, 0, 0, 0, 0, 3, 0, 0, 0\\n0, 0, 0, 0, 0, 0, 0, 0]'),\n",
       " Text(206.2173913043478, 185.3181818181818, 'X[1] <= 66.0\\ngini = 0.444\\nsamples = 3\\nvalue = [0, 0, 0, 0, 0, 0, 0, 0, 0, 0, 1, 0, 0, 0\\n0, 0, 0, 0, 2, 0, 0, 0]'),\n",
       " Text(194.08695652173913, 160.60909090909092, 'gini = 0.0\\nsamples = 1\\nvalue = [0, 0, 0, 0, 0, 0, 0, 0, 0, 0, 1, 0, 0, 0\\n0, 0, 0, 0, 0, 0, 0, 0]'),\n",
       " Text(218.3478260869565, 160.60909090909092, 'gini = 0.0\\nsamples = 2\\nvalue = [0, 0, 0, 0, 0, 0, 0, 0, 0, 0, 0, 0, 0, 0\\n0, 0, 0, 0, 2, 0, 0, 0]'),\n",
       " Text(266.8695652173913, 210.0272727272727, 'X[0] <= 8.0\\ngini = 0.05\\nsamples = 39\\nvalue = [0, 0, 0, 0, 0, 0, 0, 0, 0, 0, 38, 0, 0, 0\\n0, 0, 0, 0, 1, 0, 0, 0]'),\n",
       " Text(254.7391304347826, 185.3181818181818, 'X[0] <= 6.5\\ngini = 0.198\\nsamples = 9\\nvalue = [0, 0, 0, 0, 0, 0, 0, 0, 0, 0, 8, 0, 0, 0\\n0, 0, 0, 0, 1, 0, 0, 0]'),\n",
       " Text(242.6086956521739, 160.60909090909092, 'gini = 0.0\\nsamples = 8\\nvalue = [0, 0, 0, 0, 0, 0, 0, 0, 0, 0, 8, 0, 0, 0\\n0, 0, 0, 0, 0, 0, 0, 0]'),\n",
       " Text(266.8695652173913, 160.60909090909092, 'gini = 0.0\\nsamples = 1\\nvalue = [0, 0, 0, 0, 0, 0, 0, 0, 0, 0, 0, 0, 0, 0\\n0, 0, 0, 0, 1, 0, 0, 0]'),\n",
       " Text(279.0, 185.3181818181818, 'gini = 0.0\\nsamples = 30\\nvalue = [0, 0, 0, 0, 0, 0, 0, 0, 0, 0, 30, 0, 0, 0\\n0, 0, 0, 0, 0, 0, 0, 0]'),\n",
       " Text(339.6521739130435, 234.73636363636365, 'X[3] <= 25.492\\ngini = 0.291\\nsamples = 17\\nvalue = [0, 0, 3, 0, 0, 0, 0, 0, 0, 0, 14, 0, 0, 0\\n0, 0, 0, 0, 0, 0, 0, 0]'),\n",
       " Text(315.39130434782606, 210.0272727272727, 'X[3] <= 24.61\\ngini = 0.133\\nsamples = 14\\nvalue = [0, 0, 1, 0, 0, 0, 0, 0, 0, 0, 13, 0, 0, 0\\n0, 0, 0, 0, 0, 0, 0, 0]'),\n",
       " Text(303.2608695652174, 185.3181818181818, 'gini = 0.0\\nsamples = 10\\nvalue = [0, 0, 0, 0, 0, 0, 0, 0, 0, 0, 10, 0, 0, 0\\n0, 0, 0, 0, 0, 0, 0, 0]'),\n",
       " Text(327.52173913043475, 185.3181818181818, 'X[2] <= 22.5\\ngini = 0.375\\nsamples = 4\\nvalue = [0, 0, 1, 0, 0, 0, 0, 0, 0, 0, 3, 0, 0, 0\\n0, 0, 0, 0, 0, 0, 0, 0]'),\n",
       " Text(315.39130434782606, 160.60909090909092, 'gini = 0.0\\nsamples = 1\\nvalue = [0, 0, 1, 0, 0, 0, 0, 0, 0, 0, 0, 0, 0, 0\\n0, 0, 0, 0, 0, 0, 0, 0]'),\n",
       " Text(339.6521739130435, 160.60909090909092, 'gini = 0.0\\nsamples = 3\\nvalue = [0, 0, 0, 0, 0, 0, 0, 0, 0, 0, 3, 0, 0, 0\\n0, 0, 0, 0, 0, 0, 0, 0]'),\n",
       " Text(363.9130434782609, 210.0272727272727, 'X[1] <= 67.0\\ngini = 0.444\\nsamples = 3\\nvalue = [0, 0, 2, 0, 0, 0, 0, 0, 0, 0, 1, 0, 0, 0\\n0, 0, 0, 0, 0, 0, 0, 0]'),\n",
       " Text(351.7826086956522, 185.3181818181818, 'gini = 0.0\\nsamples = 1\\nvalue = [0, 0, 0, 0, 0, 0, 0, 0, 0, 0, 1, 0, 0, 0\\n0, 0, 0, 0, 0, 0, 0, 0]'),\n",
       " Text(376.04347826086956, 185.3181818181818, 'gini = 0.0\\nsamples = 2\\nvalue = [0, 0, 2, 0, 0, 0, 0, 0, 0, 0, 0, 0, 0, 0\\n0, 0, 0, 0, 0, 0, 0, 0]'),\n",
       " Text(222.89673913043478, 308.8636363636364, 'gini = 0.0\\nsamples = 2\\nvalue = [0, 0, 2, 0, 0, 0, 0, 0, 0, 0, 0, 0, 0, 0\\n0, 0, 0, 0, 0, 0, 0, 0]'),\n",
       " Text(474.6032608695652, 333.5727272727273, 'X[0] <= 19.5\\ngini = 0.484\\nsamples = 108\\nvalue = [0, 0, 73, 0, 0, 0, 0, 0, 0, 0, 25, 0, 0, 2\\n0, 0, 0, 0, 8, 0, 0, 0]'),\n",
       " Text(412.4347826086956, 308.8636363636364, 'X[3] <= 30.107\\ngini = 0.29\\nsamples = 18\\nvalue = [0, 0, 0, 0, 0, 0, 0, 0, 0, 0, 15, 0, 0, 1\\n0, 0, 0, 0, 2, 0, 0, 0]'),\n",
       " Text(388.17391304347825, 284.1545454545455, 'X[1] <= 63.5\\ngini = 0.117\\nsamples = 16\\nvalue = [0, 0, 0, 0, 0, 0, 0, 0, 0, 0, 15, 0, 0, 0\\n0, 0, 0, 0, 1, 0, 0, 0]'),\n",
       " Text(376.04347826086956, 259.44545454545454, 'X[2] <= 21.0\\ngini = 0.375\\nsamples = 4\\nvalue = [0, 0, 0, 0, 0, 0, 0, 0, 0, 0, 3, 0, 0, 0\\n0, 0, 0, 0, 1, 0, 0, 0]'),\n",
       " Text(363.9130434782609, 234.73636363636365, 'gini = 0.0\\nsamples = 3\\nvalue = [0, 0, 0, 0, 0, 0, 0, 0, 0, 0, 3, 0, 0, 0\\n0, 0, 0, 0, 0, 0, 0, 0]'),\n",
       " Text(388.17391304347825, 234.73636363636365, 'gini = 0.0\\nsamples = 1\\nvalue = [0, 0, 0, 0, 0, 0, 0, 0, 0, 0, 0, 0, 0, 0\\n0, 0, 0, 0, 1, 0, 0, 0]'),\n",
       " Text(400.30434782608694, 259.44545454545454, 'gini = 0.0\\nsamples = 12\\nvalue = [0, 0, 0, 0, 0, 0, 0, 0, 0, 0, 12, 0, 0, 0\\n0, 0, 0, 0, 0, 0, 0, 0]'),\n",
       " Text(436.695652173913, 284.1545454545455, 'X[1] <= 68.0\\ngini = 0.5\\nsamples = 2\\nvalue = [0, 0, 0, 0, 0, 0, 0, 0, 0, 0, 0, 0, 0, 1\\n0, 0, 0, 0, 1, 0, 0, 0]'),\n",
       " Text(424.5652173913043, 259.44545454545454, 'gini = 0.0\\nsamples = 1\\nvalue = [0, 0, 0, 0, 0, 0, 0, 0, 0, 0, 0, 0, 0, 1\\n0, 0, 0, 0, 0, 0, 0, 0]'),\n",
       " Text(448.82608695652175, 259.44545454545454, 'gini = 0.0\\nsamples = 1\\nvalue = [0, 0, 0, 0, 0, 0, 0, 0, 0, 0, 0, 0, 0, 0\\n0, 0, 0, 0, 1, 0, 0, 0]'),\n",
       " Text(536.7717391304348, 308.8636363636364, 'X[0] <= 40.5\\ngini = 0.325\\nsamples = 90\\nvalue = [0, 0, 73, 0, 0, 0, 0, 0, 0, 0, 10, 0, 0, 1\\n0, 0, 0, 0, 6, 0, 0, 0]'),\n",
       " Text(524.6413043478261, 284.1545454545455, 'X[3] <= 28.448\\ngini = 0.496\\nsamples = 52\\nvalue = [0, 0, 35, 0, 0, 0, 0, 0, 0, 0, 10, 0, 0, 1\\n0, 0, 0, 0, 6, 0, 0, 0]'),\n",
       " Text(473.0869565217391, 259.44545454545454, 'X[3] <= 27.573\\ngini = 0.486\\nsamples = 12\\nvalue = [0, 0, 5, 0, 0, 0, 0, 0, 0, 0, 7, 0, 0, 0\\n0, 0, 0, 0, 0, 0, 0, 0]'),\n",
       " Text(460.95652173913044, 234.73636363636365, 'X[2] <= 18.5\\ngini = 0.278\\nsamples = 6\\nvalue = [0, 0, 5, 0, 0, 0, 0, 0, 0, 0, 1, 0, 0, 0\\n0, 0, 0, 0, 0, 0, 0, 0]'),\n",
       " Text(448.82608695652175, 210.0272727272727, 'X[4] <= 65.337\\ngini = 0.5\\nsamples = 2\\nvalue = [0, 0, 1, 0, 0, 0, 0, 0, 0, 0, 1, 0, 0, 0\\n0, 0, 0, 0, 0, 0, 0, 0]'),\n",
       " Text(436.695652173913, 185.3181818181818, 'gini = 0.0\\nsamples = 1\\nvalue = [0, 0, 1, 0, 0, 0, 0, 0, 0, 0, 0, 0, 0, 0\\n0, 0, 0, 0, 0, 0, 0, 0]'),\n",
       " Text(460.95652173913044, 185.3181818181818, 'gini = 0.0\\nsamples = 1\\nvalue = [0, 0, 0, 0, 0, 0, 0, 0, 0, 0, 1, 0, 0, 0\\n0, 0, 0, 0, 0, 0, 0, 0]'),\n",
       " Text(473.0869565217391, 210.0272727272727, 'gini = 0.0\\nsamples = 4\\nvalue = [0, 0, 4, 0, 0, 0, 0, 0, 0, 0, 0, 0, 0, 0\\n0, 0, 0, 0, 0, 0, 0, 0]'),\n",
       " Text(485.2173913043478, 234.73636363636365, 'gini = 0.0\\nsamples = 6\\nvalue = [0, 0, 0, 0, 0, 0, 0, 0, 0, 0, 6, 0, 0, 0\\n0, 0, 0, 0, 0, 0, 0, 0]'),\n",
       " Text(576.195652173913, 259.44545454545454, 'X[1] <= 61.5\\ngini = 0.409\\nsamples = 40\\nvalue = [0, 0, 30, 0, 0, 0, 0, 0, 0, 0, 3, 0, 0, 1\\n0, 0, 0, 0, 6, 0, 0, 0]'),\n",
       " Text(521.6086956521739, 234.73636363636365, 'X[1] <= 57.5\\ngini = 0.64\\nsamples = 10\\nvalue = [0, 0, 3, 0, 0, 0, 0, 0, 0, 0, 1, 0, 0, 1\\n0, 0, 0, 0, 5, 0, 0, 0]'),\n",
       " Text(497.3478260869565, 210.0272727272727, 'X[3] <= 31.659\\ngini = 0.444\\nsamples = 3\\nvalue = [0, 0, 2, 0, 0, 0, 0, 0, 0, 0, 0, 0, 0, 1\\n0, 0, 0, 0, 0, 0, 0, 0]'),\n",
       " Text(485.2173913043478, 185.3181818181818, 'gini = 0.0\\nsamples = 1\\nvalue = [0, 0, 0, 0, 0, 0, 0, 0, 0, 0, 0, 0, 0, 1\\n0, 0, 0, 0, 0, 0, 0, 0]'),\n",
       " Text(509.4782608695652, 185.3181818181818, 'gini = 0.0\\nsamples = 2\\nvalue = [0, 0, 2, 0, 0, 0, 0, 0, 0, 0, 0, 0, 0, 0\\n0, 0, 0, 0, 0, 0, 0, 0]'),\n",
       " Text(545.8695652173913, 210.0272727272727, 'X[2] <= 17.0\\ngini = 0.449\\nsamples = 7\\nvalue = [0, 0, 1, 0, 0, 0, 0, 0, 0, 0, 1, 0, 0, 0\\n0, 0, 0, 0, 5, 0, 0, 0]'),\n",
       " Text(533.7391304347826, 185.3181818181818, 'gini = 0.0\\nsamples = 1\\nvalue = [0, 0, 1, 0, 0, 0, 0, 0, 0, 0, 0, 0, 0, 0\\n0, 0, 0, 0, 0, 0, 0, 0]'),\n",
       " Text(558.0, 185.3181818181818, 'X[4] <= 61.685\\ngini = 0.278\\nsamples = 6\\nvalue = [0, 0, 0, 0, 0, 0, 0, 0, 0, 0, 1, 0, 0, 0\\n0, 0, 0, 0, 5, 0, 0, 0]'),\n",
       " Text(545.8695652173913, 160.60909090909092, 'gini = 0.0\\nsamples = 1\\nvalue = [0, 0, 0, 0, 0, 0, 0, 0, 0, 0, 1, 0, 0, 0\\n0, 0, 0, 0, 0, 0, 0, 0]'),\n",
       " Text(570.1304347826086, 160.60909090909092, 'gini = 0.0\\nsamples = 5\\nvalue = [0, 0, 0, 0, 0, 0, 0, 0, 0, 0, 0, 0, 0, 0\\n0, 0, 0, 0, 5, 0, 0, 0]'),\n",
       " Text(630.7826086956521, 234.73636363636365, 'X[2] <= 17.5\\ngini = 0.184\\nsamples = 30\\nvalue = [0, 0, 27, 0, 0, 0, 0, 0, 0, 0, 2, 0, 0, 0\\n0, 0, 0, 0, 1, 0, 0, 0]'),\n",
       " Text(618.6521739130435, 210.0272727272727, 'X[3] <= 29.96\\ngini = 0.43\\nsamples = 11\\nvalue = [0, 0, 8, 0, 0, 0, 0, 0, 0, 0, 2, 0, 0, 0\\n0, 0, 0, 0, 1, 0, 0, 0]'),\n",
       " Text(606.5217391304348, 185.3181818181818, 'X[3] <= 29.439\\ngini = 0.64\\nsamples = 5\\nvalue = [0, 0, 2, 0, 0, 0, 0, 0, 0, 0, 2, 0, 0, 0\\n0, 0, 0, 0, 1, 0, 0, 0]'),\n",
       " Text(594.3913043478261, 160.60909090909092, 'gini = 0.0\\nsamples = 2\\nvalue = [0, 0, 2, 0, 0, 0, 0, 0, 0, 0, 0, 0, 0, 0\\n0, 0, 0, 0, 0, 0, 0, 0]'),\n",
       " Text(618.6521739130435, 160.60909090909092, 'X[4] <= 66.324\\ngini = 0.444\\nsamples = 3\\nvalue = [0, 0, 0, 0, 0, 0, 0, 0, 0, 0, 2, 0, 0, 0\\n0, 0, 0, 0, 1, 0, 0, 0]'),\n",
       " Text(606.5217391304348, 135.89999999999998, 'gini = 0.0\\nsamples = 2\\nvalue = [0, 0, 0, 0, 0, 0, 0, 0, 0, 0, 2, 0, 0, 0\\n0, 0, 0, 0, 0, 0, 0, 0]'),\n",
       " Text(630.7826086956521, 135.89999999999998, 'gini = 0.0\\nsamples = 1\\nvalue = [0, 0, 0, 0, 0, 0, 0, 0, 0, 0, 0, 0, 0, 0\\n0, 0, 0, 0, 1, 0, 0, 0]'),\n",
       " Text(630.7826086956521, 185.3181818181818, 'gini = 0.0\\nsamples = 6\\nvalue = [0, 0, 6, 0, 0, 0, 0, 0, 0, 0, 0, 0, 0, 0\\n0, 0, 0, 0, 0, 0, 0, 0]'),\n",
       " Text(642.9130434782609, 210.0272727272727, 'gini = 0.0\\nsamples = 19\\nvalue = [0, 0, 19, 0, 0, 0, 0, 0, 0, 0, 0, 0, 0, 0\\n0, 0, 0, 0, 0, 0, 0, 0]'),\n",
       " Text(548.9021739130435, 284.1545454545455, 'gini = 0.0\\nsamples = 38\\nvalue = [0, 0, 38, 0, 0, 0, 0, 0, 0, 0, 0, 0, 0, 0\\n0, 0, 0, 0, 0, 0, 0, 0]'),\n",
       " Text(143.29076086956522, 407.70000000000005, 'gini = 0.0\\nsamples = 77\\nvalue = [0, 0, 0, 0, 0, 0, 0, 0, 0, 0, 0, 0, 77, 0\\n0, 0, 0, 0, 0, 0, 0, 0]'),\n",
       " Text(379.07608695652175, 432.40909090909093, 'X[2] <= 25.5\\ngini = 0.489\\nsamples = 138\\nvalue = [0, 0, 0, 0, 0, 79, 0, 0, 0, 0, 0, 59, 0, 0\\n0, 0, 0, 0, 0, 0, 0, 0]'),\n",
       " Text(366.94565217391306, 407.70000000000005, 'X[1] <= 34.5\\ngini = 0.168\\nsamples = 65\\nvalue = [0, 0, 0, 0, 0, 6, 0, 0, 0, 0, 0, 59, 0, 0\\n0, 0, 0, 0, 0, 0, 0, 0]'),\n",
       " Text(354.8152173913043, 382.9909090909091, 'gini = 0.0\\nsamples = 5\\nvalue = [0, 0, 0, 0, 0, 5, 0, 0, 0, 0, 0, 0, 0, 0\\n0, 0, 0, 0, 0, 0, 0, 0]'),\n",
       " Text(379.07608695652175, 382.9909090909091, 'X[0] <= 108.0\\ngini = 0.033\\nsamples = 60\\nvalue = [0, 0, 0, 0, 0, 1, 0, 0, 0, 0, 0, 59, 0, 0\\n0, 0, 0, 0, 0, 0, 0, 0]'),\n",
       " Text(366.94565217391306, 358.28181818181815, 'gini = 0.0\\nsamples = 59\\nvalue = [0, 0, 0, 0, 0, 0, 0, 0, 0, 0, 0, 59, 0, 0\\n0, 0, 0, 0, 0, 0, 0, 0]'),\n",
       " Text(391.20652173913044, 358.28181818181815, 'gini = 0.0\\nsamples = 1\\nvalue = [0, 0, 0, 0, 0, 1, 0, 0, 0, 0, 0, 0, 0, 0\\n0, 0, 0, 0, 0, 0, 0, 0]'),\n",
       " Text(391.20652173913044, 407.70000000000005, 'gini = 0.0\\nsamples = 73\\nvalue = [0, 0, 0, 0, 0, 73, 0, 0, 0, 0, 0, 0, 0, 0\\n0, 0, 0, 0, 0, 0, 0, 0]'),\n",
       " Text(645.945652173913, 457.1181818181818, 'X[1] <= 32.5\\ngini = 0.912\\nsamples = 896\\nvalue = [0, 79, 0, 0, 78, 0, 79, 0, 80, 0, 0, 16, 0\\n0, 73, 81, 80, 92, 0, 76, 83, 79]'),\n",
       " Text(585.2934782608695, 432.40909090909093, 'X[2] <= 20.0\\ngini = 0.8\\nsamples = 394\\nvalue = [0, 0, 0, 0, 78, 0, 0, 0, 0, 0, 0, 0, 0, 0\\n0, 81, 80, 0, 0, 76, 0, 79]'),\n",
       " Text(573.1630434782609, 407.70000000000005, 'gini = 0.0\\nsamples = 80\\nvalue = [0, 0, 0, 0, 0, 0, 0, 0, 0, 0, 0, 0, 0, 0\\n0, 0, 80, 0, 0, 0, 0, 0]'),\n",
       " Text(597.4239130434783, 407.70000000000005, 'X[0] <= 60.0\\ngini = 0.75\\nsamples = 314\\nvalue = [0, 0, 0, 0, 78, 0, 0, 0, 0, 0, 0, 0, 0, 0\\n0, 81, 0, 0, 0, 76, 0, 79]'),\n",
       " Text(573.1630434782609, 382.9909090909091, 'X[3] <= 24.977\\ngini = 0.5\\nsamples = 154\\nvalue = [0, 0, 0, 0, 78, 0, 0, 0, 0, 0, 0, 0, 0, 0\\n0, 0, 0, 0, 0, 76, 0, 0]'),\n",
       " Text(561.0326086956521, 358.28181818181815, 'gini = 0.0\\nsamples = 76\\nvalue = [0, 0, 0, 0, 0, 0, 0, 0, 0, 0, 0, 0, 0, 0\\n0, 0, 0, 0, 0, 76, 0, 0]'),\n",
       " Text(585.2934782608695, 358.28181818181815, 'gini = 0.0\\nsamples = 78\\nvalue = [0, 0, 0, 0, 78, 0, 0, 0, 0, 0, 0, 0, 0, 0\\n0, 0, 0, 0, 0, 0, 0, 0]'),\n",
       " Text(621.6847826086956, 382.9909090909091, 'X[4] <= 90.0\\ngini = 0.5\\nsamples = 160\\nvalue = [0, 0, 0, 0, 0, 0, 0, 0, 0, 0, 0, 0, 0, 0\\n0, 81, 0, 0, 0, 0, 0, 79]'),\n",
       " Text(609.554347826087, 358.28181818181815, 'gini = 0.0\\nsamples = 79\\nvalue = [0, 0, 0, 0, 0, 0, 0, 0, 0, 0, 0, 0, 0, 0\\n0, 0, 0, 0, 0, 0, 0, 79]'),\n",
       " Text(633.8152173913044, 358.28181818181815, 'gini = 0.0\\nsamples = 81\\nvalue = [0, 0, 0, 0, 0, 0, 0, 0, 0, 0, 0, 0, 0, 0\\n0, 81, 0, 0, 0, 0, 0, 0]'),\n",
       " Text(706.5978260869565, 432.40909090909093, 'X[4] <= 90.017\\ngini = 0.842\\nsamples = 502\\nvalue = [0, 79, 0, 0, 0, 0, 79, 0, 80, 0, 0, 16, 0, 0\\n73, 0, 0, 92, 0, 0, 83, 0]'),\n",
       " Text(694.4673913043478, 407.70000000000005, 'X[1] <= 65.0\\ngini = 0.813\\nsamples = 410\\nvalue = [0, 79, 0, 0, 0, 0, 79, 0, 80, 0, 0, 16, 0, 0\\n73, 0, 0, 0, 0, 0, 83, 0]'),\n",
       " Text(682.3369565217391, 382.9909090909091, 'X[2] <= 30.0\\ngini = 0.771\\nsamples = 331\\nvalue = [0, 0, 0, 0, 0, 0, 79, 0, 80, 0, 0, 16, 0, 0\\n73, 0, 0, 0, 0, 0, 83, 0]'),\n",
       " Text(658.0760869565217, 358.28181818181815, 'X[0] <= 99.5\\ngini = 0.581\\nsamples = 168\\nvalue = [0, 0, 0, 0, 0, 0, 79, 0, 0, 0, 0, 16, 0, 0\\n73, 0, 0, 0, 0, 0, 0, 0]'),\n",
       " Text(645.945652173913, 333.5727272727273, 'X[0] <= 50.5\\ngini = 0.295\\nsamples = 89\\nvalue = [0, 0, 0, 0, 0, 0, 0, 0, 0, 0, 0, 16, 0, 0\\n73, 0, 0, 0, 0, 0, 0, 0]'),\n",
       " Text(633.8152173913044, 308.8636363636364, 'gini = 0.0\\nsamples = 73\\nvalue = [0, 0, 0, 0, 0, 0, 0, 0, 0, 0, 0, 0, 0, 0\\n73, 0, 0, 0, 0, 0, 0, 0]'),\n",
       " Text(658.0760869565217, 308.8636363636364, 'gini = 0.0\\nsamples = 16\\nvalue = [0, 0, 0, 0, 0, 0, 0, 0, 0, 0, 0, 16, 0, 0\\n0, 0, 0, 0, 0, 0, 0, 0]'),\n",
       " Text(670.2065217391304, 333.5727272727273, 'gini = 0.0\\nsamples = 79\\nvalue = [0, 0, 0, 0, 0, 0, 79, 0, 0, 0, 0, 0, 0, 0\\n0, 0, 0, 0, 0, 0, 0, 0]'),\n",
       " Text(706.5978260869565, 358.28181818181815, 'X[4] <= 80.037\\ngini = 0.5\\nsamples = 163\\nvalue = [0, 0, 0, 0, 0, 0, 0, 0, 80, 0, 0, 0, 0, 0\\n0, 0, 0, 0, 0, 0, 83, 0]'),\n",
       " Text(694.4673913043478, 333.5727272727273, 'gini = 0.0\\nsamples = 43\\nvalue = [0, 0, 0, 0, 0, 0, 0, 0, 43, 0, 0, 0, 0, 0\\n0, 0, 0, 0, 0, 0, 0, 0]'),\n",
       " Text(718.7282608695652, 333.5727272727273, 'X[4] <= 85.335\\ngini = 0.427\\nsamples = 120\\nvalue = [0, 0, 0, 0, 0, 0, 0, 0, 37, 0, 0, 0, 0, 0\\n0, 0, 0, 0, 0, 0, 83, 0]'),\n",
       " Text(706.5978260869565, 308.8636363636364, 'X[3] <= 23.805\\ngini = 0.313\\nsamples = 103\\nvalue = [0, 0, 0, 0, 0, 0, 0, 0, 20, 0, 0, 0, 0, 0\\n0, 0, 0, 0, 0, 0, 83, 0]'),\n",
       " Text(655.0434782608695, 284.1545454545455, 'X[3] <= 23.076\\ngini = 0.044\\nsamples = 44\\nvalue = [0, 0, 0, 0, 0, 0, 0, 0, 1, 0, 0, 0, 0, 0\\n0, 0, 0, 0, 0, 0, 43, 0]'),\n",
       " Text(642.9130434782609, 259.44545454545454, 'gini = 0.0\\nsamples = 32\\nvalue = [0, 0, 0, 0, 0, 0, 0, 0, 0, 0, 0, 0, 0, 0\\n0, 0, 0, 0, 0, 0, 32, 0]'),\n",
       " Text(667.1739130434783, 259.44545454545454, 'X[3] <= 23.159\\ngini = 0.153\\nsamples = 12\\nvalue = [0, 0, 0, 0, 0, 0, 0, 0, 1, 0, 0, 0, 0, 0\\n0, 0, 0, 0, 0, 0, 11, 0]'),\n",
       " Text(655.0434782608695, 234.73636363636365, 'gini = 0.0\\nsamples = 1\\nvalue = [0, 0, 0, 0, 0, 0, 0, 0, 1, 0, 0, 0, 0, 0\\n0, 0, 0, 0, 0, 0, 0, 0]'),\n",
       " Text(679.304347826087, 234.73636363636365, 'gini = 0.0\\nsamples = 11\\nvalue = [0, 0, 0, 0, 0, 0, 0, 0, 0, 0, 0, 0, 0, 0\\n0, 0, 0, 0, 0, 0, 11, 0]'),\n",
       " Text(758.1521739130435, 284.1545454545455, 'X[4] <= 83.491\\ngini = 0.437\\nsamples = 59\\nvalue = [0, 0, 0, 0, 0, 0, 0, 0, 19, 0, 0, 0, 0, 0\\n0, 0, 0, 0, 0, 0, 40, 0]'),\n",
       " Text(727.8260869565217, 259.44545454545454, 'X[4] <= 80.713\\ngini = 0.48\\nsamples = 45\\nvalue = [0, 0, 0, 0, 0, 0, 0, 0, 18, 0, 0, 0, 0, 0\\n0, 0, 0, 0, 0, 0, 27, 0]'),\n",
       " Text(703.5652173913044, 234.73636363636365, 'X[0] <= 63.0\\ngini = 0.18\\nsamples = 10\\nvalue = [0, 0, 0, 0, 0, 0, 0, 0, 1, 0, 0, 0, 0, 0\\n0, 0, 0, 0, 0, 0, 9, 0]'),\n",
       " Text(691.4347826086956, 210.0272727272727, 'X[1] <= 51.5\\ngini = 0.5\\nsamples = 2\\nvalue = [0, 0, 0, 0, 0, 0, 0, 0, 1, 0, 0, 0, 0, 0\\n0, 0, 0, 0, 0, 0, 1, 0]'),\n",
       " Text(679.304347826087, 185.3181818181818, 'gini = 0.0\\nsamples = 1\\nvalue = [0, 0, 0, 0, 0, 0, 0, 0, 0, 0, 0, 0, 0, 0\\n0, 0, 0, 0, 0, 0, 1, 0]'),\n",
       " Text(703.5652173913044, 185.3181818181818, 'gini = 0.0\\nsamples = 1\\nvalue = [0, 0, 0, 0, 0, 0, 0, 0, 1, 0, 0, 0, 0, 0\\n0, 0, 0, 0, 0, 0, 0, 0]'),\n",
       " Text(715.695652173913, 210.0272727272727, 'gini = 0.0\\nsamples = 8\\nvalue = [0, 0, 0, 0, 0, 0, 0, 0, 0, 0, 0, 0, 0, 0\\n0, 0, 0, 0, 0, 0, 8, 0]'),\n",
       " Text(752.0869565217391, 234.73636363636365, 'X[3] <= 26.674\\ngini = 0.5\\nsamples = 35\\nvalue = [0, 0, 0, 0, 0, 0, 0, 0, 17, 0, 0, 0, 0, 0\\n0, 0, 0, 0, 0, 0, 18, 0]'),\n",
       " Text(739.9565217391304, 210.0272727272727, 'X[4] <= 80.998\\ngini = 0.491\\nsamples = 30\\nvalue = [0, 0, 0, 0, 0, 0, 0, 0, 17, 0, 0, 0, 0, 0\\n0, 0, 0, 0, 0, 0, 13, 0]'),\n",
       " Text(727.8260869565217, 185.3181818181818, 'gini = 0.0\\nsamples = 3\\nvalue = [0, 0, 0, 0, 0, 0, 0, 0, 3, 0, 0, 0, 0, 0\\n0, 0, 0, 0, 0, 0, 0, 0]'),\n",
       " Text(752.0869565217391, 185.3181818181818, 'X[4] <= 81.554\\ngini = 0.499\\nsamples = 27\\nvalue = [0, 0, 0, 0, 0, 0, 0, 0, 14, 0, 0, 0, 0, 0\\n0, 0, 0, 0, 0, 0, 13, 0]'),\n",
       " Text(727.8260869565217, 160.60909090909092, 'X[1] <= 41.5\\ngini = 0.32\\nsamples = 5\\nvalue = [0, 0, 0, 0, 0, 0, 0, 0, 1, 0, 0, 0, 0, 0\\n0, 0, 0, 0, 0, 0, 4, 0]'),\n",
       " Text(715.695652173913, 135.89999999999998, 'gini = 0.0\\nsamples = 1\\nvalue = [0, 0, 0, 0, 0, 0, 0, 0, 1, 0, 0, 0, 0, 0\\n0, 0, 0, 0, 0, 0, 0, 0]'),\n",
       " Text(739.9565217391304, 135.89999999999998, 'gini = 0.0\\nsamples = 4\\nvalue = [0, 0, 0, 0, 0, 0, 0, 0, 0, 0, 0, 0, 0, 0\\n0, 0, 0, 0, 0, 0, 4, 0]'),\n",
       " Text(776.3478260869565, 160.60909090909092, 'X[0] <= 67.5\\ngini = 0.483\\nsamples = 22\\nvalue = [0, 0, 0, 0, 0, 0, 0, 0, 13, 0, 0, 0, 0, 0\\n0, 0, 0, 0, 0, 0, 9, 0]'),\n",
       " Text(764.2173913043478, 135.89999999999998, 'gini = 0.0\\nsamples = 4\\nvalue = [0, 0, 0, 0, 0, 0, 0, 0, 4, 0, 0, 0, 0, 0\\n0, 0, 0, 0, 0, 0, 0, 0]'),\n",
       " Text(788.4782608695652, 135.89999999999998, 'X[4] <= 81.92\\ngini = 0.5\\nsamples = 18\\nvalue = [0, 0, 0, 0, 0, 0, 0, 0, 9, 0, 0, 0, 0, 0\\n0, 0, 0, 0, 0, 0, 9, 0]'),\n",
       " Text(776.3478260869565, 111.19090909090909, 'gini = 0.0\\nsamples = 3\\nvalue = [0, 0, 0, 0, 0, 0, 0, 0, 3, 0, 0, 0, 0, 0\\n0, 0, 0, 0, 0, 0, 0, 0]'),\n",
       " Text(800.6086956521739, 111.19090909090909, 'X[4] <= 83.179\\ngini = 0.48\\nsamples = 15\\nvalue = [0, 0, 0, 0, 0, 0, 0, 0, 6, 0, 0, 0, 0, 0\\n0, 0, 0, 0, 0, 0, 9, 0]'),\n",
       " Text(788.4782608695652, 86.4818181818182, 'X[1] <= 56.5\\ngini = 0.426\\nsamples = 13\\nvalue = [0, 0, 0, 0, 0, 0, 0, 0, 4, 0, 0, 0, 0, 0\\n0, 0, 0, 0, 0, 0, 9, 0]'),\n",
       " Text(764.2173913043478, 61.77272727272725, 'X[2] <= 39.5\\ngini = 0.32\\nsamples = 10\\nvalue = [0, 0, 0, 0, 0, 0, 0, 0, 2, 0, 0, 0, 0, 0\\n0, 0, 0, 0, 0, 0, 8, 0]'),\n",
       " Text(752.0869565217391, 37.06363636363636, 'gini = 0.0\\nsamples = 6\\nvalue = [0, 0, 0, 0, 0, 0, 0, 0, 0, 0, 0, 0, 0, 0\\n0, 0, 0, 0, 0, 0, 6, 0]'),\n",
       " Text(776.3478260869565, 37.06363636363636, 'X[3] <= 25.148\\ngini = 0.5\\nsamples = 4\\nvalue = [0, 0, 0, 0, 0, 0, 0, 0, 2, 0, 0, 0, 0, 0\\n0, 0, 0, 0, 0, 0, 2, 0]'),\n",
       " Text(764.2173913043478, 12.354545454545473, 'gini = 0.0\\nsamples = 2\\nvalue = [0, 0, 0, 0, 0, 0, 0, 0, 2, 0, 0, 0, 0, 0\\n0, 0, 0, 0, 0, 0, 0, 0]'),\n",
       " Text(788.4782608695652, 12.354545454545473, 'gini = 0.0\\nsamples = 2\\nvalue = [0, 0, 0, 0, 0, 0, 0, 0, 0, 0, 0, 0, 0, 0\\n0, 0, 0, 0, 0, 0, 2, 0]'),\n",
       " Text(812.7391304347826, 61.77272727272725, 'X[3] <= 25.297\\ngini = 0.444\\nsamples = 3\\nvalue = [0, 0, 0, 0, 0, 0, 0, 0, 2, 0, 0, 0, 0, 0\\n0, 0, 0, 0, 0, 0, 1, 0]'),\n",
       " Text(800.6086956521739, 37.06363636363636, 'gini = 0.0\\nsamples = 2\\nvalue = [0, 0, 0, 0, 0, 0, 0, 0, 2, 0, 0, 0, 0, 0\\n0, 0, 0, 0, 0, 0, 0, 0]'),\n",
       " Text(824.8695652173913, 37.06363636363636, 'gini = 0.0\\nsamples = 1\\nvalue = [0, 0, 0, 0, 0, 0, 0, 0, 0, 0, 0, 0, 0, 0\\n0, 0, 0, 0, 0, 0, 1, 0]'),\n",
       " Text(812.7391304347826, 86.4818181818182, 'gini = 0.0\\nsamples = 2\\nvalue = [0, 0, 0, 0, 0, 0, 0, 0, 2, 0, 0, 0, 0, 0\\n0, 0, 0, 0, 0, 0, 0, 0]'),\n",
       " Text(764.2173913043478, 210.0272727272727, 'gini = 0.0\\nsamples = 5\\nvalue = [0, 0, 0, 0, 0, 0, 0, 0, 0, 0, 0, 0, 0, 0\\n0, 0, 0, 0, 0, 0, 5, 0]'),\n",
       " Text(788.4782608695652, 259.44545454545454, 'X[2] <= 44.5\\ngini = 0.133\\nsamples = 14\\nvalue = [0, 0, 0, 0, 0, 0, 0, 0, 1, 0, 0, 0, 0, 0\\n0, 0, 0, 0, 0, 0, 13, 0]'),\n",
       " Text(776.3478260869565, 234.73636363636365, 'gini = 0.0\\nsamples = 12\\nvalue = [0, 0, 0, 0, 0, 0, 0, 0, 0, 0, 0, 0, 0, 0\\n0, 0, 0, 0, 0, 0, 12, 0]'),\n",
       " Text(800.6086956521739, 234.73636363636365, 'X[4] <= 84.0\\ngini = 0.5\\nsamples = 2\\nvalue = [0, 0, 0, 0, 0, 0, 0, 0, 1, 0, 0, 0, 0, 0\\n0, 0, 0, 0, 0, 0, 1, 0]'),\n",
       " Text(788.4782608695652, 210.0272727272727, 'gini = 0.0\\nsamples = 1\\nvalue = [0, 0, 0, 0, 0, 0, 0, 0, 0, 0, 0, 0, 0, 0\\n0, 0, 0, 0, 0, 0, 1, 0]'),\n",
       " Text(812.7391304347826, 210.0272727272727, 'gini = 0.0\\nsamples = 1\\nvalue = [0, 0, 0, 0, 0, 0, 0, 0, 1, 0, 0, 0, 0, 0\\n0, 0, 0, 0, 0, 0, 0, 0]'),\n",
       " Text(730.8586956521739, 308.8636363636364, 'gini = 0.0\\nsamples = 17\\nvalue = [0, 0, 0, 0, 0, 0, 0, 0, 17, 0, 0, 0, 0, 0\\n0, 0, 0, 0, 0, 0, 0, 0]'),\n",
       " Text(706.5978260869565, 382.9909090909091, 'gini = 0.0\\nsamples = 79\\nvalue = [0, 79, 0, 0, 0, 0, 0, 0, 0, 0, 0, 0, 0, 0\\n0, 0, 0, 0, 0, 0, 0, 0]'),\n",
       " Text(718.7282608695652, 407.70000000000005, 'gini = 0.0\\nsamples = 92\\nvalue = [0, 0, 0, 0, 0, 0, 0, 0, 0, 0, 0, 0, 0, 0\\n0, 0, 0, 92, 0, 0, 0, 0]'),\n",
       " Text(682.3369565217391, 481.82727272727277, 'X[4] <= 87.01\\ngini = 0.5\\nsamples = 160\\nvalue = [79, 0, 0, 0, 0, 0, 0, 81, 0, 0, 0, 0, 0, 0\\n0, 0, 0, 0, 0, 0, 0, 0]'),\n",
       " Text(670.2065217391304, 457.1181818181818, 'gini = 0.0\\nsamples = 81\\nvalue = [0, 0, 0, 0, 0, 0, 0, 81, 0, 0, 0, 0, 0, 0\\n0, 0, 0, 0, 0, 0, 0, 0]'),\n",
       " Text(694.4673913043478, 457.1181818181818, 'gini = 0.0\\nsamples = 79\\nvalue = [79, 0, 0, 0, 0, 0, 0, 0, 0, 0, 0, 0, 0, 0\\n0, 0, 0, 0, 0, 0, 0, 0]')]"
      ]
     },
     "execution_count": 72,
     "metadata": {},
     "output_type": "execute_result"
    },
    {
     "data": {
      "image/png": "[encoded data removed]",
      "text/plain": [
       "<Figure size 1080x720 with 1 Axes>"
      ]
     },
     "metadata": {
      "needs_background": "light"
     },
     "output_type": "display_data"
    }
   ],
   "source": [
    "plt.figure(figsize = (15,10))\n",
    "tree.plot_tree(DecisionTree, filled = True)"
   ]
  },
  {
   "cell_type": "code",
   "execution_count": 73,
   "id": "84202646",
   "metadata": {},
   "outputs": [],
   "source": [
    "Y_pred = DecisionTree.predict(X_test)"
   ]
  },
  {
   "cell_type": "code",
   "execution_count": 74,
   "id": "2a92fc83",
   "metadata": {},
   "outputs": [
    {
     "data": {
      "text/plain": [
       "array(['jute', 'mothbeans', 'orange', 'grapes', 'orange', 'grapes',\n",
       "       'papaya', 'orange', 'watermelon', 'coffee', 'watermelon',\n",
       "       'muskmelon', 'mungbean', 'chickpea', 'mothbeans', 'jute',\n",
       "       'pomegranate', 'cotton', 'mango', 'watermelon', 'cotton', 'coffee',\n",
       "       'banana', 'muskmelon', 'mungbean', 'rice', 'watermelon',\n",
       "       'blackgram', 'watermelon', 'pigeonpeas', 'maize', 'watermelon',\n",
       "       'blackgram', 'mungbean', 'pomegranate', 'lentil', 'pigeonpeas',\n",
       "       'grapes', 'coconut', 'pomegranate', 'kidneybeans', 'mango',\n",
       "       'orange', 'kidneybeans', 'banana', 'chickpea', 'blackgram',\n",
       "       'blackgram', 'pomegranate', 'pigeonpeas', 'grapes', 'pomegranate',\n",
       "       'chickpea', 'maize', 'watermelon', 'banana', 'mothbeans', 'apple',\n",
       "       'coconut', 'pigeonpeas', 'jute', 'pomegranate', 'muskmelon',\n",
       "       'mungbean', 'coffee', 'blackgram', 'maize', 'watermelon',\n",
       "       'pigeonpeas', 'grapes', 'chickpea', 'mungbean', 'orange', 'jute',\n",
       "       'jute', 'coconut', 'watermelon', 'pigeonpeas', 'mothbeans',\n",
       "       'maize', 'mungbean', 'lentil', 'cotton', 'chickpea', 'lentil',\n",
       "       'blackgram', 'grapes', 'coconut', 'watermelon', 'chickpea',\n",
       "       'mungbean', 'kidneybeans', 'chickpea', 'jute', 'rice', 'blackgram',\n",
       "       'lentil', 'rice', 'apple', 'papaya', 'pomegranate', 'coffee',\n",
       "       'chickpea', 'blackgram', 'cotton', 'cotton', 'coffee',\n",
       "       'pomegranate', 'mango', 'coconut', 'cotton', 'kidneybeans',\n",
       "       'blackgram', 'coffee', 'muskmelon', 'orange', 'mungbean', 'rice',\n",
       "       'mango', 'mothbeans', 'mango', 'cotton', 'mungbean', 'mothbeans',\n",
       "       'mothbeans', 'blackgram', 'maize', 'grapes', 'mungbean',\n",
       "       'chickpea', 'watermelon', 'apple', 'pomegranate', 'kidneybeans',\n",
       "       'coconut', 'jute', 'rice', 'papaya', 'banana', 'mango', 'jute',\n",
       "       'mothbeans', 'rice', 'orange', 'coconut', 'mungbean', 'watermelon',\n",
       "       'muskmelon', 'coffee', 'rice', 'pigeonpeas', 'maize', 'mungbean',\n",
       "       'coffee', 'blackgram', 'mango', 'coffee', 'banana', 'mungbean',\n",
       "       'apple', 'maize', 'watermelon', 'coffee', 'coconut', 'rice',\n",
       "       'banana', 'jute', 'cotton', 'grapes', 'coconut', 'pomegranate',\n",
       "       'lentil', 'mungbean', 'grapes', 'banana', 'apple', 'chickpea',\n",
       "       'maize', 'pomegranate', 'pigeonpeas', 'chickpea', 'chickpea',\n",
       "       'coconut', 'apple', 'muskmelon', 'kidneybeans', 'chickpea', 'rice',\n",
       "       'mothbeans', 'coffee', 'pomegranate', 'maize', 'apple', 'coconut',\n",
       "       'apple', 'pomegranate', 'pigeonpeas', 'coffee', 'rice', 'lentil',\n",
       "       'chickpea', 'mungbean', 'watermelon', 'pomegranate', 'lentil',\n",
       "       'pomegranate', 'jute', 'orange', 'maize', 'blackgram', 'banana',\n",
       "       'pigeonpeas', 'lentil', 'mango', 'mungbean', 'jute', 'mungbean',\n",
       "       'banana', 'lentil', 'mungbean', 'pigeonpeas', 'pigeonpeas',\n",
       "       'blackgram', 'orange', 'maize', 'muskmelon', 'grapes', 'jute',\n",
       "       'coffee', 'coffee', 'cotton', 'pomegranate', 'cotton', 'banana',\n",
       "       'mango', 'mothbeans', 'coffee', 'banana', 'mungbean', 'coconut',\n",
       "       'blackgram', 'apple', 'maize', 'chickpea', 'apple', 'pomegranate',\n",
       "       'mango', 'pigeonpeas', 'lentil', 'cotton', 'pigeonpeas', 'rice',\n",
       "       'banana', 'grapes', 'chickpea', 'grapes', 'orange', 'orange',\n",
       "       'jute', 'maize', 'apple', 'cotton', 'muskmelon', 'maize',\n",
       "       'kidneybeans', 'grapes', 'blackgram', 'pigeonpeas', 'coconut',\n",
       "       'coconut', 'watermelon', 'papaya', 'banana', 'watermelon',\n",
       "       'banana', 'maize', 'grapes', 'apple', 'muskmelon', 'coffee',\n",
       "       'mungbean', 'mothbeans', 'mungbean', 'orange', 'rice',\n",
       "       'kidneybeans', 'banana', 'muskmelon', 'pigeonpeas', 'mango',\n",
       "       'coffee', 'kidneybeans', 'cotton', 'pigeonpeas', 'pomegranate',\n",
       "       'cotton', 'papaya', 'cotton', 'chickpea', 'pomegranate', 'orange',\n",
       "       'lentil', 'maize', 'rice', 'muskmelon', 'apple', 'pomegranate',\n",
       "       'maize', 'maize', 'mungbean', 'apple', 'pigeonpeas', 'watermelon',\n",
       "       'orange', 'papaya', 'mothbeans', 'maize', 'kidneybeans', 'maize',\n",
       "       'coconut', 'blackgram', 'pomegranate', 'maize', 'apple', 'maize',\n",
       "       'orange', 'mango', 'mungbean', 'rice', 'mungbean', 'cotton',\n",
       "       'lentil', 'muskmelon', 'coconut', 'banana', 'banana', 'rice',\n",
       "       'maize', 'kidneybeans', 'cotton', 'lentil', 'apple', 'coconut',\n",
       "       'kidneybeans', 'coffee', 'blackgram', 'kidneybeans', 'muskmelon',\n",
       "       'maize', 'rice', 'chickpea', 'blackgram', 'coconut', 'jute',\n",
       "       'mango', 'watermelon', 'coconut', 'grapes', 'jute', 'muskmelon',\n",
       "       'muskmelon', 'pomegranate', 'pigeonpeas', 'watermelon', 'maize',\n",
       "       'kidneybeans', 'banana', 'apple', 'pigeonpeas', 'grapes', 'rice',\n",
       "       'cotton', 'pigeonpeas', 'coconut', 'orange', 'muskmelon',\n",
       "       'watermelon', 'grapes', 'kidneybeans', 'banana', 'pigeonpeas',\n",
       "       'orange', 'orange', 'pomegranate', 'grapes', 'maize', 'chickpea',\n",
       "       'muskmelon', 'banana', 'mungbean', 'blackgram', 'pigeonpeas',\n",
       "       'coconut', 'mango', 'muskmelon', 'chickpea', 'apple', 'apple',\n",
       "       'coconut', 'jute', 'pigeonpeas', 'jute', 'chickpea', 'pigeonpeas',\n",
       "       'pigeonpeas', 'watermelon', 'orange', 'maize', 'mungbean', 'jute',\n",
       "       'lentil', 'papaya', 'pigeonpeas', 'kidneybeans', 'orange',\n",
       "       'mothbeans', 'mothbeans', 'cotton', 'lentil', 'chickpea', 'mango',\n",
       "       'banana', 'lentil', 'pomegranate', 'apple', 'coffee', 'blackgram',\n",
       "       'papaya', 'blackgram', 'apple', 'rice', 'muskmelon', 'coffee',\n",
       "       'lentil', 'cotton', 'cotton', 'grapes', 'jute', 'mango',\n",
       "       'mungbean'], dtype=object)"
      ]
     },
     "execution_count": 74,
     "metadata": {},
     "output_type": "execute_result"
    }
   ],
   "source": [
    "Y_pred"
   ]
  },
  {
   "cell_type": "code",
   "execution_count": 75,
   "id": "b60b98f6",
   "metadata": {},
   "outputs": [],
   "source": [
    "from sklearn.metrics import accuracy_score, classification_report"
   ]
  },
  {
   "cell_type": "code",
   "execution_count": 76,
   "id": "52f31525",
   "metadata": {},
   "outputs": [
    {
     "data": {
      "text/plain": [
       "0.95"
      ]
     },
     "execution_count": 76,
     "metadata": {},
     "output_type": "execute_result"
    }
   ],
   "source": [
    "accuracy = accuracy_score(Y_pred, Y_test)\n",
    "accuracy"
   ]
  },
  {
   "cell_type": "code",
   "execution_count": 77,
   "id": "35bee999",
   "metadata": {},
   "outputs": [
    {
     "name": "stdout",
     "output_type": "stream",
     "text": [
      "              precision    recall  f1-score   support\n",
      "\n",
      "       apple       1.00      1.00      1.00        21\n",
      "      banana       1.00      1.00      1.00        21\n",
      "   blackgram       0.77      0.81      0.79        21\n",
      "    chickpea       1.00      1.00      1.00        22\n",
      "     coconut       1.00      1.00      1.00        22\n",
      "      coffee       0.95      1.00      0.98        20\n",
      "      cotton       1.00      1.00      1.00        21\n",
      "      grapes       1.00      1.00      1.00        19\n",
      "        jute       0.80      0.84      0.82        19\n",
      " kidneybeans       1.00      1.00      1.00        16\n",
      "      lentil       0.82      0.82      0.82        17\n",
      "       maize       1.00      0.93      0.96        27\n",
      "       mango       1.00      1.00      1.00        16\n",
      "   mothbeans       0.80      0.86      0.83        14\n",
      "    mungbean       1.00      1.00      1.00        27\n",
      "   muskmelon       1.00      1.00      1.00        19\n",
      "      orange       1.00      1.00      1.00        20\n",
      "      papaya       1.00      1.00      1.00         8\n",
      "  pigeonpeas       0.88      0.85      0.87        27\n",
      " pomegranate       1.00      1.00      1.00        24\n",
      "        rice       0.82      0.78      0.80        18\n",
      "  watermelon       1.00      1.00      1.00        21\n",
      "\n",
      "    accuracy                           0.95       440\n",
      "   macro avg       0.95      0.95      0.95       440\n",
      "weighted avg       0.95      0.95      0.95       440\n",
      "\n"
     ]
    }
   ],
   "source": [
    "print(classification_report(Y_pred, Y_test))"
   ]
  },
  {
   "cell_type": "code",
   "execution_count": null,
   "id": "869ffcd2",
   "metadata": {},
   "outputs": [],
   "source": []
  },
  {
   "cell_type": "code",
   "execution_count": 104,
   "id": "f2435511",
   "metadata": {},
   "outputs": [
    {
     "name": "stdout",
     "output_type": "stream",
     "text": [
      "['chickpea']\n"
     ]
    }
   ],
   "source": [
    "data = np.array([[32,73, 81, 20, 15]])\n",
    "prediction = DecisionTree.predict(data)\n",
    "print(prediction)"
   ]
  },
  {
   "cell_type": "code",
   "execution_count": 65,
   "id": "f347f283",
   "metadata": {},
   "outputs": [],
   "source": [
    "pickle.dump(DecisionTree, open('decisiontree.pkl', 'wb'))"
   ]
  },
  {
   "cell_type": "code",
   "execution_count": 43,
   "id": "6b2cbc3d",
   "metadata": {},
   "outputs": [],
   "source": [
    "model = pickle.load(open('decisiontree.pkl','rb'))"
   ]
  },
  {
   "cell_type": "code",
   "execution_count": 44,
   "id": "2d3049e2",
   "metadata": {},
   "outputs": [
    {
     "data": {
      "text/plain": [
       "array(['coffee'], dtype=object)"
      ]
     },
     "execution_count": 44,
     "metadata": {},
     "output_type": "execute_result"
    }
   ],
   "source": [
    "model.predict(data)"
   ]
  },
  {
   "cell_type": "code",
   "execution_count": null,
   "id": "2cd5fbcb",
   "metadata": {},
   "outputs": [],
   "source": []
  },
  {
   "cell_type": "code",
   "execution_count": null,
   "id": "cb36ae02",
   "metadata": {},
   "outputs": [],
   "source": []
  },
  {
   "cell_type": "code",
   "execution_count": null,
   "id": "8fb1601f",
   "metadata": {},
   "outputs": [],
   "source": []
  },
  {
   "cell_type": "code",
   "execution_count": 82,
   "id": "9792ccaa",
   "metadata": {},
   "outputs": [
    {
     "name": "stdout",
     "output_type": "stream",
     "text": [
      "['mothbeans']\n",
      "Naive Bayes's Accuracy is:  0.9454545454545454\n",
      "              precision    recall  f1-score   support\n",
      "\n",
      "       apple       1.00      1.00      1.00        21\n",
      "      banana       1.00      1.00      1.00        21\n",
      "   blackgram       0.72      0.95      0.82        22\n",
      "    chickpea       1.00      1.00      1.00        22\n",
      "     coconut       1.00      1.00      1.00        22\n",
      "      coffee       1.00      1.00      1.00        21\n",
      "      cotton       1.00      1.00      1.00        21\n",
      "      grapes       1.00      1.00      1.00        19\n",
      "        jute       0.88      0.70      0.78        20\n",
      " kidneybeans       1.00      1.00      1.00        16\n",
      "      lentil       0.80      0.71      0.75        17\n",
      "       maize       1.00      1.00      1.00        25\n",
      "       mango       1.00      1.00      1.00        16\n",
      "   mothbeans       0.80      0.80      0.80        15\n",
      "    mungbean       1.00      1.00      1.00        27\n",
      "   muskmelon       1.00      1.00      1.00        19\n",
      "      orange       1.00      1.00      1.00        20\n",
      "      papaya       1.00      1.00      1.00         8\n",
      "  pigeonpeas       0.90      0.73      0.81        26\n",
      " pomegranate       1.00      1.00      1.00        24\n",
      "        rice       0.71      0.88      0.79        17\n",
      "  watermelon       1.00      1.00      1.00        21\n",
      "\n",
      "    accuracy                           0.95       440\n",
      "   macro avg       0.95      0.94      0.94       440\n",
      "weighted avg       0.95      0.95      0.95       440\n",
      "\n"
     ]
    }
   ],
   "source": [
    "NaiveBayes = GaussianNB()\n",
    "\n",
    "NaiveBayes.fit(X_train,Y_train)\n",
    "\n",
    "Y_pred = NaiveBayes.predict(X_test)\n",
    "test = np.array(X_test.iloc[1,:])\n",
    "test = test.reshape(1,-1)\n",
    "print(NaiveBayes.predict(test))\n",
    "x = metrics.accuracy_score(Y_test, Y_pred)\n",
    "\n",
    "\n",
    "print(\"Naive Bayes's Accuracy is: \", x)\n",
    "\n",
    "print(classification_report(Y_test,predicted_values))"
   ]
  },
  {
   "cell_type": "code",
   "execution_count": 83,
   "id": "921f51b2",
   "metadata": {},
   "outputs": [
    {
     "data": {
      "text/plain": [
       "array(['coffee'], dtype='<U11')"
      ]
     },
     "execution_count": 83,
     "metadata": {},
     "output_type": "execute_result"
    }
   ],
   "source": [
    "NaiveBayes.predict([[107,34,32,26,66]])"
   ]
  },
  {
   "cell_type": "code",
   "execution_count": null,
   "id": "ec9d4632",
   "metadata": {},
   "outputs": [],
   "source": []
  },
  {
   "cell_type": "code",
   "execution_count": 105,
   "id": "6a4a922f",
   "metadata": {},
   "outputs": [],
   "source": [
    "pickle.dump(NaiveBayes, open('naivebayes.pkl', 'wb'))"
   ]
  },
  {
   "cell_type": "code",
   "execution_count": 106,
   "id": "64b9e011",
   "metadata": {},
   "outputs": [],
   "source": [
    "model = pickle.load(open('decisiontree.pkl','rb'))"
   ]
  },
  {
   "cell_type": "code",
   "execution_count": 107,
   "id": "b75324a9",
   "metadata": {},
   "outputs": [
    {
     "data": {
      "text/plain": [
       "array(['chickpea'], dtype=object)"
      ]
     },
     "execution_count": 107,
     "metadata": {},
     "output_type": "execute_result"
    }
   ],
   "source": [
    "model.predict(data)"
   ]
  },
  {
   "cell_type": "code",
   "execution_count": null,
   "id": "51cc9bf2",
   "metadata": {},
   "outputs": [],
   "source": []
  },
  {
   "cell_type": "code",
   "execution_count": null,
   "id": "b7c7e188",
   "metadata": {},
   "outputs": [],
   "source": []
  },
  {
   "cell_type": "code",
   "execution_count": null,
   "id": "28df3f39",
   "metadata": {},
   "outputs": [],
   "source": []
  },
  {
   "cell_type": "code",
   "execution_count": 89,
   "id": "d89039f9",
   "metadata": {},
   "outputs": [
    {
     "name": "stdout",
     "output_type": "stream",
     "text": [
      "Logistic Regression's Accuracy is:  0.8454545454545455\n",
      "              precision    recall  f1-score   support\n",
      "\n",
      "       apple       1.00      1.00      1.00        21\n",
      "      banana       0.95      0.95      0.95        21\n",
      "   blackgram       0.64      0.73      0.68        22\n",
      "    chickpea       1.00      1.00      1.00        22\n",
      "     coconut       0.92      1.00      0.96        22\n",
      "      coffee       0.95      1.00      0.98        21\n",
      "      cotton       0.88      1.00      0.93        21\n",
      "      grapes       1.00      1.00      1.00        19\n",
      "        jute       0.68      0.65      0.67        20\n",
      " kidneybeans       1.00      1.00      1.00        16\n",
      "      lentil       0.59      0.59      0.59        17\n",
      "       maize       1.00      0.84      0.91        25\n",
      "       mango       0.94      1.00      0.97        16\n",
      "   mothbeans       0.31      0.27      0.29        15\n",
      "    mungbean       0.96      1.00      0.98        27\n",
      "   muskmelon       0.62      0.53      0.57        19\n",
      "      orange       1.00      1.00      1.00        20\n",
      "      papaya       0.80      1.00      0.89         8\n",
      "  pigeonpeas       0.82      0.69      0.75        26\n",
      " pomegranate       1.00      0.92      0.96        24\n",
      "        rice       0.61      0.65      0.63        17\n",
      "  watermelon       0.61      0.67      0.64        21\n",
      "\n",
      "    accuracy                           0.85       440\n",
      "   macro avg       0.83      0.84      0.83       440\n",
      "weighted avg       0.84      0.85      0.84       440\n",
      "\n"
     ]
    }
   ],
   "source": [
    "LogReg = LogisticRegression(random_state=2)\n",
    "\n",
    "LogReg.fit(X_train,Y_train)\n",
    "\n",
    "Y_pred = LogReg.predict(X_test)\n",
    "\n",
    "x = metrics.accuracy_score(Y_test, Y_pred)\n",
    "\n",
    "print(\"Logistic Regression's Accuracy is: \", x)\n",
    "\n",
    "print(classification_report(Y_test, Y_pred))"
   ]
  },
  {
   "cell_type": "code",
   "execution_count": 108,
   "id": "dc36ffb4",
   "metadata": {},
   "outputs": [],
   "source": [
    "pickle.dump(LogReg, open('logreg.pkl', 'wb'))"
   ]
  },
  {
   "cell_type": "code",
   "execution_count": 109,
   "id": "7dcc867c",
   "metadata": {},
   "outputs": [],
   "source": [
    "model = pickle.load(open('logreg.pkl','rb'))"
   ]
  },
  {
   "cell_type": "code",
   "execution_count": 110,
   "id": "c1dd19c6",
   "metadata": {},
   "outputs": [
    {
     "data": {
      "text/plain": [
       "array(['chickpea'], dtype=object)"
      ]
     },
     "execution_count": 110,
     "metadata": {},
     "output_type": "execute_result"
    }
   ],
   "source": [
    "model.predict(data)"
   ]
  },
  {
   "cell_type": "code",
   "execution_count": null,
   "id": "f7170b87",
   "metadata": {},
   "outputs": [],
   "source": []
  },
  {
   "cell_type": "code",
   "execution_count": null,
   "id": "06a7d3cc",
   "metadata": {},
   "outputs": [],
   "source": []
  },
  {
   "cell_type": "code",
   "execution_count": null,
   "id": "343b4760",
   "metadata": {},
   "outputs": [],
   "source": []
  },
  {
   "cell_type": "code",
   "execution_count": 98,
   "id": "33cabd15",
   "metadata": {},
   "outputs": [
    {
     "name": "stdout",
     "output_type": "stream",
     "text": [
      "RF's Accuracy is:  0.95\n",
      "              precision    recall  f1-score   support\n",
      "\n",
      "       apple       1.00      1.00      1.00        21\n",
      "      banana       1.00      1.00      1.00        21\n",
      "   blackgram       0.79      0.86      0.83        22\n",
      "    chickpea       1.00      1.00      1.00        22\n",
      "     coconut       1.00      1.00      1.00        22\n",
      "      coffee       1.00      1.00      1.00        21\n",
      "      cotton       1.00      1.00      1.00        21\n",
      "      grapes       1.00      1.00      1.00        19\n",
      "        jute       0.93      0.70      0.80        20\n",
      " kidneybeans       1.00      1.00      1.00        16\n",
      "      lentil       0.81      0.76      0.79        17\n",
      "       maize       0.96      1.00      0.98        25\n",
      "       mango       1.00      1.00      1.00        16\n",
      "   mothbeans       0.87      0.87      0.87        15\n",
      "    mungbean       1.00      1.00      1.00        27\n",
      "   muskmelon       1.00      1.00      1.00        19\n",
      "      orange       1.00      1.00      1.00        20\n",
      "      papaya       1.00      1.00      1.00         8\n",
      "  pigeonpeas       0.83      0.77      0.80        26\n",
      " pomegranate       1.00      1.00      1.00        24\n",
      "        rice       0.73      0.94      0.82        17\n",
      "  watermelon       1.00      1.00      1.00        21\n",
      "\n",
      "    accuracy                           0.95       440\n",
      "   macro avg       0.95      0.95      0.95       440\n",
      "weighted avg       0.95      0.95      0.95       440\n",
      "\n"
     ]
    }
   ],
   "source": [
    "RF = RandomForestClassifier(n_estimators=20, random_state=0)\n",
    "RF.fit(X_train,Y_train)\n",
    "\n",
    "Y_pred = RF.predict(X_test)\n",
    "\n",
    "x = metrics.accuracy_score(Y_test, Y_pred)\n",
    "print(\"RF's Accuracy is: \", x)\n",
    "\n",
    "print(classification_report(Y_test,Y_pred))"
   ]
  },
  {
   "cell_type": "code",
   "execution_count": 111,
   "id": "1a1eb4a0",
   "metadata": {},
   "outputs": [],
   "source": [
    "pickle.dump(RF,open('randomforest.pkl', 'wb'))"
   ]
  },
  {
   "cell_type": "code",
   "execution_count": 112,
   "id": "88f008e7",
   "metadata": {},
   "outputs": [],
   "source": [
    "model = pickle.load(open('randomforest.pkl', 'rb'))"
   ]
  },
  {
   "cell_type": "code",
   "execution_count": 113,
   "id": "5da4120e",
   "metadata": {},
   "outputs": [
    {
     "data": {
      "text/plain": [
       "array(['chickpea'], dtype=object)"
      ]
     },
     "execution_count": 113,
     "metadata": {},
     "output_type": "execute_result"
    }
   ],
   "source": [
    "model.predict(data)"
   ]
  },
  {
   "cell_type": "code",
   "execution_count": null,
   "id": "8e118331",
   "metadata": {},
   "outputs": [],
   "source": []
  }
 ],
 "metadata": {
  "kernelspec": {
   "display_name": "Python 3 (ipykernel)",
   "language": "python",
   "name": "python3"
  },
  "language_info": {
   "codemirror_mode": {
    "name": "ipython",
    "version": 3
   },
   "file_extension": ".py",
   "mimetype": "text/x-python",
   "name": "python",
   "nbconvert_exporter": "python",
   "pygments_lexer": "ipython3",
   "version": "3.9.7"
  }
 },
 "nbformat": 4,
 "nbformat_minor": 5
}
